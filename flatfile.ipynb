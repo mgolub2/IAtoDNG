{
 "cells": [
  {
   "cell_type": "code",
   "execution_count": 1,
   "metadata": {},
   "outputs": [
    {
     "data": {
      "text/plain": [
       "<Figure size 2880x2880 with 0 Axes>"
      ]
     },
     "execution_count": 1,
     "metadata": {},
     "output_type": "execute_result"
    },
    {
     "data": {
      "text/plain": [
       "<Figure size 2880x2880 with 0 Axes>"
      ]
     },
     "metadata": {},
     "output_type": "display_data"
    }
   ],
   "source": [
    "import matplotlib.pyplot as plt\n",
    "\n",
    "import sinar_ia as SIA\n",
    "from pathlib import Path\n",
    "import numpy as np\n",
    "from skimage.util import img_as_float, img_as_uint\n",
    "\n",
    "plt.figure(figsize=(40, 40))"
   ]
  },
  {
   "cell_type": "code",
   "execution_count": 2,
   "metadata": {
    "pycharm": {
     "name": "#%%\n"
    }
   },
   "outputs": [],
   "source": [
    "h = 5344\n",
    "w = 4008\n",
    "flats = Path(\"/Users/mgolub2/Pictures/emotion22_80mm_f4_iso50_flats/\").glob(\"*.IA\")\n",
    "imgs = []\n",
    "for f in flats:\n",
    "    imgs.append(SIA.read_sinar(f))"
   ]
  },
  {
   "cell_type": "code",
   "execution_count": 3,
   "metadata": {
    "pycharm": {
     "name": "#%%\n"
    }
   },
   "outputs": [],
   "source": [
    "flats = list(sorted(imgs, key=lambda x: x.shutter_count, reverse=True))[0:25]"
   ]
  },
  {
   "cell_type": "code",
   "execution_count": null,
   "metadata": {
    "pycharm": {
     "name": "#%%\n"
    }
   },
   "outputs": [],
   "source": [
    "def create_master_flat(flats, h=5344, w=4008):\n",
    "    corrected = np.zeros((h, w))\n",
    "    num_flats = 0\n",
    "    for i in flats:\n",
    "        if abs(i.measured_shutter_us - i.req_shutter_us) / i.req_shutter_us > 0.5:\n",
    "            # Our shutter was more than 50% slower than requested, skip this file\n",
    "            print(\n",
    "                f\"Skipping {i.filename}, shutter speed was {i.measured_shutter_us}uS, requested {i.req_shutter_us}uS!\"\n",
    "            )\n",
    "            continue\n",
    "        nd_img = img_as_float(SIA.get_raw_pillow(i, h, w))\n",
    "        black_path = i.filename.parent.absolute() / Path(i.black_ref).name\n",
    "        b0, b1 = SIA.read_black_ref(black_path, nd_img)\n",
    "        corrected += nd_img - b1\n",
    "        num_flats += 1\n",
    "    corrected /= num_flats\n",
    "    return corrected\n",
    "\n",
    "\n",
    "def process_dir_to_flats(flats, output_dir=\".\", h=5344, w=4008):\n",
    "    # flats = list(directory.glob('*.IA'))\n",
    "    f0: SIA.SinarIA = flats[0]\n",
    "    lens = (\n",
    "        f0.focal_length if f0.focal_length else input(\"Please enter the focal length: \")\n",
    "    )\n",
    "    corrected = create_master_flat(flats, h, w)\n",
    "    np.save(Path(output_dir) / f\"pyEMDNG_flat_iso{f0.iso}_{lens}mm\", corrected)\n",
    "\n",
    "\n",
    "# flat = create_master_flat(flats)\n",
    "# imshow(flat, cmap='gist_yarg')\n",
    "process_dir_to_flats(flats)"
   ]
  },
  {
   "cell_type": "code",
   "execution_count": null,
   "metadata": {
    "pycharm": {
     "name": "#%%\n"
    }
   },
   "outputs": [],
   "source": [
    "img_path = Path(\"/Users/mgolub2/Pictures/002000E8.EMO/62A4DF68.IA\")\n",
    "img = SIA.read_sinar(img_path)"
   ]
  },
  {
   "cell_type": "code",
   "execution_count": null,
   "metadata": {
    "pycharm": {
     "name": "#%%\n"
    }
   },
   "outputs": [],
   "source": [
    "nd_img = SIA.process_raw(img, h, w)"
   ]
  },
  {
   "cell_type": "code",
   "execution_count": null,
   "metadata": {
    "pycharm": {
     "name": "#%%\n"
    }
   },
   "outputs": [],
   "source": []
  },
  {
   "cell_type": "code",
   "execution_count": null,
   "metadata": {
    "pycharm": {
     "name": "#%%\n"
    }
   },
   "outputs": [],
   "source": [
    "black_path = img.filename.parent.absolute() / Path(img.black_ref).name\n",
    "b0, b1 = SIA.read_black_ref(black_path, nd_img)"
   ]
  },
  {
   "cell_type": "code",
   "execution_count": null,
   "metadata": {
    "pycharm": {
     "name": "#%%\n"
    }
   },
   "outputs": [],
   "source": [
    "plt.imshow(b0 - b1)"
   ]
  },
  {
   "cell_type": "code",
   "execution_count": null,
   "metadata": {
    "pycharm": {
     "name": "#%%\n"
    }
   },
   "outputs": [],
   "source": [
    "plt.imshow(b1, cmap=\"gist_yarg\")"
   ]
  },
  {
   "cell_type": "code",
   "execution_count": null,
   "metadata": {
    "pycharm": {
     "name": "#%%\n"
    }
   },
   "outputs": [],
   "source": [
    "b1.max()"
   ]
  },
  {
   "cell_type": "code",
   "execution_count": null,
   "metadata": {
    "pycharm": {
     "name": "#%%\n"
    }
   },
   "outputs": [],
   "source": [
    "b0.max()"
   ]
  },
  {
   "cell_type": "code",
   "execution_count": null,
   "metadata": {
    "pycharm": {
     "name": "#%%\n"
    }
   },
   "outputs": [],
   "source": [
    "b0.min()"
   ]
  },
  {
   "cell_type": "code",
   "execution_count": null,
   "metadata": {},
   "outputs": [],
   "source": [
    "b1.max()"
   ]
  },
  {
   "cell_type": "code",
   "execution_count": null,
   "metadata": {},
   "outputs": [],
   "source": [
    "(b0 - b1).max()"
   ]
  },
  {
   "cell_type": "code",
   "execution_count": null,
   "metadata": {},
   "outputs": [],
   "source": [
    "b0.max() / b1.max()"
   ]
  },
  {
   "cell_type": "code",
   "execution_count": null,
   "metadata": {},
   "outputs": [],
   "source": []
  }
 ],
 "metadata": {
  "kernelspec": {
   "display_name": "Python 3 (ipykernel)",
   "language": "python",
   "name": "python3"
  },
  "language_info": {
   "codemirror_mode": {
    "name": "ipython",
    "version": 3
   },
   "file_extension": ".py",
   "mimetype": "text/x-python",
   "name": "python",
   "nbconvert_exporter": "python",
   "pygments_lexer": "ipython3",
   "version": "3.9.13"
  }
 },
 "nbformat": 4,
 "nbformat_minor": 1
}
