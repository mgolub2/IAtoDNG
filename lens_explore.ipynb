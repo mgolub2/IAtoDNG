{
 "cells": [
  {
   "cell_type": "code",
   "execution_count": 8,
   "outputs": [],
   "source": [
    "import sinar_ia as SIA\n",
    "import matplotlib.pyplot as plt\n",
    "from pathlib import Path"
   ],
   "metadata": {
    "collapsed": false,
    "pycharm": {
     "name": "#%%\n"
    }
   }
  },
  {
   "cell_type": "code",
   "execution_count": 9,
   "outputs": [
    {
     "name": "stdout",
     "output_type": "stream",
     "text": [
      "SinarIA(shutter_count=2661, camera='Sinar Hy6', measured_shutter_us=37500, req_shutter_us=31250, f_stop=4.0, black_ref='/002000E8.EMO/683044C9.BR', iso=200, serial='e22-05-0311', white_balance_name=<WhiteBalance.Flash: 0>, focal_length=0.0, filename=PosixPath('.'), black_path=PosixPath('.'))\n",
      "SinarIA(shutter_count=2663, camera='Sinar Hy6', measured_shutter_us=37250, req_shutter_us=31250, f_stop=5.7, black_ref='/002000E8.EMO/683044C9.BR', iso=200, serial='e22-05-0311', white_balance_name=<WhiteBalance.Flash: 0>, focal_length=0.0, filename=PosixPath('.'), black_path=PosixPath('.'))\n",
      "SinarIA(shutter_count=2662, camera='Sinar Hy6', measured_shutter_us=37000, req_shutter_us=31250, f_stop=5.0, black_ref='/002000E8.EMO/683044C9.BR', iso=200, serial='e22-05-0311', white_balance_name=<WhiteBalance.Flash: 0>, focal_length=0.0, filename=PosixPath('.'), black_path=PosixPath('.'))\n",
      "SinarIA(shutter_count=2648, camera='Sinar Hy6', measured_shutter_us=19000, req_shutter_us=12402, f_stop=3.2, black_ref='/002000E8.EMO/683030A1.BR', iso=200, serial='e22-05-0311', white_balance_name=<WhiteBalance.Manual: 7>, focal_length=80.0, filename=PosixPath('.'), black_path=PosixPath('.'))\n",
      "SinarIA(shutter_count=2660, camera='Sinar Hy6', measured_shutter_us=38500, req_shutter_us=31250, f_stop=2.8, black_ref='/002000E8.EMO/683030A1.BR', iso=200, serial='e22-05-0311', white_balance_name=<WhiteBalance.Flash: 0>, focal_length=80.0, filename=PosixPath('.'), black_path=PosixPath('.'))\n"
     ]
    }
   ],
   "source": [
    "ias = []\n",
    "for f in Path('meta/').glob('*.meta'):\n",
    "    img = SIA.read_meta(f)\n",
    "    print(img)\n",
    "    ias.append(img)"
   ],
   "metadata": {
    "collapsed": false,
    "pycharm": {
     "name": "#%%\n"
    }
   }
  },
  {
   "cell_type": "code",
   "execution_count": 10,
   "outputs": [
    {
     "data": {
      "text/plain": "b'\\x13\\x00\\xe0\\x01d\\n\\x00\\x00\\xe8\\x00 \\x00\\x00L\\x04\\x00L\\x04\\x00\\x00Sinar Hy6\\x00\\x00\\x00\\x00\\x00\\x00\\x00\\x00\\x00\\x00\\x00\\x00\\x00\\x00\\x00\\x00\\x00\\x00\\x00\\x00\\x00\\x00\\x00\\x00\\x00\\x00\\x00\\x00\\x00\\x00\\x00\\x00\\x00\\x00\\x00\\x00\\x00\\x00\\x00\\x00\\x00\\x00\\x00\\x00\\x00\\x00\\x00\\x00\\x00\\x00\\x00\\x00\\x00\\x00\\x00\\xa8\\x0f\\xe0\\x14\\x0e\\x00\\x00\\x00N\\x01\\xbd\\x01\\x0e\\x04\\x03\\x03\\x00\\x00\\x01\\x00d\\x96\\x00\\x00/002000E8.EMO/683030A1.BR\\x00\\x00\\x00\\x00\\x00\\x00\\x00\\x00\\x00\\x00\\x00\\x00\\x00\\x00\\x00\\x00\\x00\\x00\\x00\\x00\\x00\\x00\\x00\\x00\\x00\\x00\\x00\\x00\\x00\\x00\\x00\\x00\\x00\\x00\\x00\\x00\\x00\\x00\\x00\\x00\\x00\\x00\\x00\\x00\\x00\\x00\\x00\\x00\\x00\\x00\\x00\\x00\\x00\\x00\\x00\\x00\\x00\\x00\\x00\\x00\\x00\\x00\\x00\\x00\\x00\\x00\\x00\\x00\\x00\\x00\\x00\\x00\\x00\\x00\\x00\\x00\\x00\\x00\\x00\\x00\\x00\\x00\\x00\\x00\\x00\\x00\\x00\\x00\\x00\\x00\\x00\\x00\\x00\\x00\\x00\\x00\\x00\\x00\\x00\\x00\\x00\\x00\\x00\\x89\\x01\\x01\\x00\\x00\\x00\\x01\\x00\\x87V\\x01\\x00(\\x00\\x00\\x00\\xc8\\x00\\x00\\x00\\xd5\\xd0\\xb4\\x10\\x0cZ\\x00\\x00\\x00\\x00\\x00\\x00\\xe1\\x02\\x08\\x00e22-05-0311\\x00\\x00\\x00\\x00\\x00\\x05\\x00\\x0b\\x00\\x90\\x01\\x00\\x00f\\x01\\x00\\x00\\x00\\x01\\x00\\x002\\x00\\x00\\x00\\x00\\x00\\x01\\x00\\x00\\x00\\x01\\x00\\x0f\\x18\\x00\\x0e\\x00\\x00\\x00\\x00\\x00\\x00\\x00\\x00\\x00\\x00\\x00\\x00\\x00\\x00\\x00\\x00\\x00\\x00\\x00\\x03\\x06\\x00\\x06\\x00\\x12z\\x00\\x00\\x00\\x00*\\x01\\xd4\\x02\\x06\\x00\\x808\\x01\\x00\\x01\\x00\\x00\\x00\\x00\\x00\\x00\\x00\\x00\\x00\\x00\\x00\\x00\\x00\\x00\\x00\\x00\\x00\\x00\\x00\\x00\\x00\\x00\\x00\\x00\\x00\\x00\\x00\\x00\\x00\\x00\\x00\\x00\\x00\\x00\\x00\\x00\\x00\\x00\\x00\\x00\\x00\\x00\\x00\\x00\\x00\\x00\\x00\\x00\\x00\\x00\\x00\\x00\\x00\\x00\\x00\\x00\\x00\\x00\\x00\\x00\\x00\\x00\\x00\\x00\\x00\\x00\\x00\\x00\\x00\\x00\\x00\\x00\\x00\\x00\\x00\\x00\\x00\\x00\\x00\\x00\\x00\\x00\\x00\\x00\\x00\\x00\\x00\\x00\\x00\\x00\\x00\\x00\\x00\\x00\\x00\\x00\\x00\\x00\\x00\\x00\\x00\\x00\\x00\\x00\\x00\\x00\\x00\\x00\\x00\\x00\\x00\\x00\\x00\\x00\\x00\\x00\\x00\\x00\\x00'"
     },
     "execution_count": 10,
     "metadata": {},
     "output_type": "execute_result"
    }
   ],
   "source": [
    "img.meta"
   ],
   "metadata": {
    "collapsed": false,
    "pycharm": {
     "name": "#%%\n"
    }
   }
  },
  {
   "cell_type": "code",
   "execution_count": 12,
   "outputs": [],
   "source": [
    "import difflib\n",
    "ias = list(sorted(ias, key=lambda x: x.shutter_count))"
   ],
   "metadata": {
    "collapsed": false,
    "pycharm": {
     "name": "#%%\n"
    }
   }
  },
  {
   "cell_type": "code",
   "execution_count": 25,
   "outputs": [
    {
     "name": "stdout",
     "output_type": "stream",
     "text": [
      "2661 126: 51 != 52\n",
      "2662 126: 51 != 52\n",
      "2663 126: 51 != 52\n",
      "2661 127: 48 != 52\n",
      "2662 127: 48 != 52\n",
      "2663 127: 48 != 52\n",
      "2661 128: 65 != 67\n",
      "2662 128: 65 != 67\n",
      "2663 128: 65 != 67\n",
      "2661 129: 49 != 57\n",
      "2662 129: 49 != 57\n",
      "2663 129: 49 != 57\n",
      "2661 356: 128 != 0\n",
      "2662 356: 128 != 0\n",
      "2663 356: 128 != 0\n",
      "2661 357: 56 != 0\n",
      "2662 357: 56 != 0\n",
      "2663 357: 56 != 0\n",
      "2661 358: 1 != 0\n",
      "2662 358: 1 != 0\n",
      "2663 358: 1 != 0\n"
     ]
    }
   ],
   "source": [
    "for i, l in enumerate(ias[0].meta):\n",
    "    for j in ias[2:]:\n",
    "        if l != j.meta[i]:\n",
    "            if l == ias[1].meta[i]:\n",
    "                print(f'{j.shutter_count} {i}: {l} != {j.meta[i]}')"
   ],
   "metadata": {
    "collapsed": false,
    "pycharm": {
     "name": "#%%\n"
    }
   }
  },
  {
   "cell_type": "code",
   "execution_count": 24,
   "outputs": [
    {
     "data": {
      "text/plain": "[b'9\\xd8\\xac\\x0e',\n b'\\xd5\\xd0\\xb4\\x10',\n b'V\\xfd/\\x11',\n b'!\\xb9Y\\x11',\n b'OW\\x8b\\x11']"
     },
     "execution_count": 24,
     "metadata": {},
     "output_type": "execute_result"
    }
   ],
   "source": [
    "[i.meta[256:260] for i in ias]"
   ],
   "metadata": {
    "collapsed": false,
    "pycharm": {
     "name": "#%%\n"
    }
   }
  },
  {
   "cell_type": "code",
   "execution_count": null,
   "outputs": [],
   "source": [],
   "metadata": {
    "collapsed": false,
    "pycharm": {
     "name": "#%%\n"
    }
   }
  }
 ],
 "metadata": {
  "kernelspec": {
   "display_name": "Python 3",
   "language": "python",
   "name": "python3"
  },
  "language_info": {
   "codemirror_mode": {
    "name": "ipython",
    "version": 2
   },
   "file_extension": ".py",
   "mimetype": "text/x-python",
   "name": "python",
   "nbconvert_exporter": "python",
   "pygments_lexer": "ipython2",
   "version": "2.7.6"
  }
 },
 "nbformat": 4,
 "nbformat_minor": 0
}