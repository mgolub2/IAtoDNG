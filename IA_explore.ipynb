{
 "cells": [
  {
   "cell_type": "code",
   "execution_count": 23,
   "id": "99029d81",
   "metadata": {},
   "outputs": [],
   "source": [
    "import os\n",
    "\n",
    "from matplotlib.pyplot import imshow\n",
    "from PIL import Image\n",
    "from pathlib import Path\n",
    "import numpy as np\n",
    "import colour\n",
    "from dataclasses import dataclass, field\n",
    "from enum import Enum\n",
    "import rawpy\n",
    "\n",
    "\n",
    "from colour_demosaicing import (\n",
    "    EXAMPLES_RESOURCES_DIRECTORY,\n",
    "    demosaicing_CFA_Bayer_bilinear,\n",
    "    demosaicing_CFA_Bayer_Malvar2004,\n",
    "    demosaicing_CFA_Bayer_Menon2007,\n",
    "    masks_CFA_Bayer)\n",
    "\n",
    "\n"
   ]
  },
  {
   "cell_type": "code",
   "execution_count": 90,
   "id": "3cee96ed",
   "metadata": {},
   "outputs": [],
   "source": [
    "colour.plotting.colour_style()\n",
    "\n",
    "META_KEY = b'META\\x00\\xa5\\xa5\\xa5'\n",
    "RAW_KEY = b'RAW0\\x000\\x00\\xa5'\n",
    "TEST_FILES = Path('test_files_wb')\n",
    "MODEL = {\n",
    "    'e22': \"Emotion 22\"\n",
    "}\n",
    "\n",
    "norm2 = lambda x: np.clip( (x - x.max()) * (1 / (x.min() - x.max())), 0, 1)\n",
    "norm = lambda x: (x - np.min(x)) / (np.max(x) - np.min(x))\n",
    "gle = lambda b: int.from_bytes(b,  byteorder='little')\n",
    "gli = lambda b, s : int.from_bytes(b[s:s+4],  byteorder='little')\n",
    "gls = lambda b, s : int.from_bytes(b[s:s+2],  byteorder='little')\n",
    "\n",
    "\n",
    "class WhiteBalance(Enum):\n",
    "    Manual = 7\n",
    "    Flash = 0\n",
    "    Neon = 1\n",
    "    Tungsten = 2\n",
    "    Shadow = 3\n",
    "    Sun = 4\n",
    "    Cloudy = 5\n",
    "    \n",
    "    def __str__(self):\n",
    "        return str(self.name)\n",
    "    \n",
    "\n",
    "    \n",
    "def gwad(raw, start, offset):\n",
    "    return raw[start:start+offset]\n",
    "\n",
    "\n",
    "def read_raw(path):\n",
    "    with open(path, 'rb') as rawfp:\n",
    "        raw = rawfp.read()\n",
    "    return raw\n",
    "\n",
    "\n",
    "def read_pwad_lumps(raw):\n",
    "    lumps = {}\n",
    "    ftype, num_file, offset = get_pwad_info(raw)\n",
    "    for i in range(num_file):\n",
    "        file_entry_start = offset+i*16\n",
    "        fe_offset = gle(raw[file_entry_start:file_entry_start+4])\n",
    "        fe_size = gle(raw[file_entry_start+4:file_entry_start+8])\n",
    "        name = raw[file_entry_start+8:file_entry_start+16]\n",
    "        #print(f'{name}: fe_offset: {fe_offset}, fe_size: {fe_size} bytes')\n",
    "        lumps[name] = (fe_offset, fe_size)\n",
    "    return lumps\n",
    "\n",
    "\n",
    "def get_pwad_info(raw):\n",
    "    ftype = raw[0:4]\n",
    "    num_file = gle(raw[4:8])\n",
    "    offset = gle(raw[8:12])\n",
    "    #print(f'ftype: {ftype}, {num_file}, {offset}')\n",
    "    return ftype, num_file, offset\n",
    "\n",
    "\n",
    "@dataclass\n",
    "class SinarIA:\n",
    "    shutter_count: int\n",
    "    camera: str\n",
    "    measured_shutter_us: int\n",
    "    req_shutter_us: int\n",
    "    f_stop: int\n",
    "    black_ref: str\n",
    "    iso: int\n",
    "    serial: str\n",
    "    white_balance_name: WhiteBalance \n",
    "    focal_length: int\n",
    "    filename: Path = field(default=Path(''))\n",
    "    raw_data: bytes = field(default_factory=bytes, repr=False)\n",
    "    meta: bytes = field(default_factory=bytes, repr=False)\n",
    "\n",
    "\n",
    "def process_meta(meta: bytes):\n",
    "    shutter_count = gli(meta, 4)\n",
    "    camera = meta[20:64].decode('ascii').rstrip('\\x00')\n",
    "    white_balance_name = WhiteBalance(gls(meta, 100))\n",
    "    shutter_time_us = gli(meta, 104)\n",
    "    black_ref = meta[108:108+128].decode('ascii').rstrip('\\x00')\n",
    "    iso = gli(meta, 252)\n",
    "    serial = meta[272:272+16].decode('ascii').rstrip('\\x00')\n",
    "    shutter_time_us_2 = gli(meta, 344)\n",
    "    f_stop = round(gls(meta, 352)/256, 1)\n",
    "    focal_length = round(gli(meta, 356)/1000, 0)\n",
    "    return SinarIA(\n",
    "        shutter_count=shutter_count,\n",
    "        camera=camera,\n",
    "        measured_shutter_us=shutter_time_us,\n",
    "        req_shutter_us=shutter_time_us_2,\n",
    "        f_stop=f_stop,\n",
    "        black_ref=black_ref,\n",
    "        iso=iso,\n",
    "        serial=serial,\n",
    "        meta=meta,\n",
    "        white_balance_name=white_balance_name,\n",
    "        focal_length=focal_length\n",
    "    )        \n",
    "\n",
    "def read_sinar(path: Path):\n",
    "    raw = read_raw(path)\n",
    "    lumps = read_pwad_lumps(raw)\n",
    "    meta = gwad(raw, *lumps[META_KEY])\n",
    "    sinar_ia = process_meta(meta)\n",
    "    raw_data = gwad(raw, *lumps[RAW_KEY])\n",
    "    sinar_ia.raw_data=raw_data\n",
    "    sinar_ia.filename = path\n",
    "    return sinar_ia\n",
    "    \n",
    "\n",
    "def read_black_ref(path: Path, img, mode='BLACK1'):\n",
    "    black = read_raw(path)\n",
    "    lumps = read_pwad_lumps(black)\n",
    "    black0 = gwad(black, *lumps[b'BLACK0\\x00\\xa5'])\n",
    "    black1 = gwad(black, *lumps[b'BLACK1\\x00\\xa5'])\n",
    "    black0_img = np.asarray(Image.frombytes('I;16L', img.size, black0, 'raw'))\n",
    "    black1_img = np.asarray(Image.frombytes('I;16L', img.size, black1, 'raw'))\n",
    "    if mode == 'BLACK1':\n",
    "        return black1_img\n",
    "    elif mode == 'BLACK0': \n",
    "        return black0_img\n",
    "    elif mode == 'COMBO':\n",
    "        return black1_img-black0_img\n",
    "    else:\n",
    "        raise Exception('Mode not found!')\n",
    "        \n",
    "        \n",
    "def get_raw_pillow(RAW: SinarIA, h, w):\n",
    "    RAW0 = RAW.raw_data\n",
    "    assert (h*w*16)/8 == len(RAW0)\n",
    "    img = Image.frombytes('I;16L', (w,h), RAW0, 'raw')\n",
    "    return img\n",
    "\n",
    "\n",
    "def apply_local_black_ref(img: Image, black_path: Path, mode='COMBO'):\n",
    "    BLACK = read_black_ref(black_path, img, mode=mode)\n",
    "    nd_img = np.asarray(BLACK)\n",
    "    return img-nd_img\n",
    "\n",
    "def process_raw(RAW: SinarIA, h=5344, w=4008, mode='COMBO'):\n",
    "    img = get_raw_pillow(RAW, h, w)\n",
    "    black_path = RAW.filename.parent.absolute() / Path(RAW.black_ref).name\n",
    "    nd_img = apply_local_black_ref(img, black_path, mode=mode)\n",
    "    return nd_img\n",
    "\n",
    "def sinar_ia_to_pil(path: Path, h=5344, w=4008):\n",
    "    sinar_ia = read_sinar(path)\n",
    "    nd_img = process_raw(sinar_ia, h=h, w=w)\n",
    "    out = demosaicing_CFA_Bayer_Menon2007(norm(nd_img), \"RGGB\")\n",
    "    return Image.fromarray((out*65536).astype('uint16'), mode='RGB')"
   ]
  },
  {
   "cell_type": "code",
   "execution_count": 91,
   "id": "a81b3868",
   "metadata": {},
   "outputs": [
    {
     "name": "stdout",
     "output_type": "stream",
     "text": [
      "Reading 683003CA.IA...\n",
      "Reading 68300273.IA...\n",
      "Reading 6830013F.IA...\n",
      "Reading 6830007F.IA...\n",
      "Reading 683000EE.IA...\n",
      "Reading 68300195.IA...\n",
      "Reading 683002E1.IA...\n",
      "Reading 683001DE.IA...\n",
      "Reading 682FFF96.IA...\n",
      "Reading 683004E0.IA...\n",
      "Reading 6830054F.IA...\n"
     ]
    }
   ],
   "source": [
    "raws = {}\n",
    "for ia in TEST_FILES.glob('*.IA'):\n",
    "    print(f'Reading {ia.name}...')\n",
    "    raw = read_sinar(ia)\n",
    "    raws[raw.filename.name] = raw"
   ]
  },
  {
   "cell_type": "code",
   "execution_count": 92,
   "id": "b2f8d630",
   "metadata": {},
   "outputs": [
    {
     "data": {
      "text/plain": "[('682FFF96.IA',\n  SinarIA(shutter_count=2561, camera='Sinar Hy6', measured_shutter_us=4008000, req_shutter_us=4000000, f_stop=8.0, black_ref='/002000E8.EMO/682FFFAB.BR', iso=50, serial='e22-05-0311', white_balance_name=<WhiteBalance.Manual: 7>, focal_length=0.0, filename=PosixPath('test_files_wb/682FFF96.IA'))),\n ('6830007F.IA',\n  SinarIA(shutter_count=2562, camera='Sinar Hy6', measured_shutter_us=4007750, req_shutter_us=4000000, f_stop=8.0, black_ref='/002000E8.EMO/68300094.BR', iso=50, serial='e22-05-0311', white_balance_name=<WhiteBalance.Flash: 0>, focal_length=0.0, filename=PosixPath('test_files_wb/6830007F.IA'))),\n ('683000EE.IA',\n  SinarIA(shutter_count=2563, camera='Sinar Hy6', measured_shutter_us=4007750, req_shutter_us=4000000, f_stop=8.0, black_ref='/002000E8.EMO/68300104.BR', iso=50, serial='e22-05-0311', white_balance_name=<WhiteBalance.Neon: 1>, focal_length=0.0, filename=PosixPath('test_files_wb/683000EE.IA'))),\n ('6830013F.IA',\n  SinarIA(shutter_count=2564, camera='Sinar Hy6', measured_shutter_us=4007750, req_shutter_us=4000000, f_stop=8.0, black_ref='/002000E8.EMO/68300154.BR', iso=50, serial='e22-05-0311', white_balance_name=<WhiteBalance.Tungsten: 2>, focal_length=0.0, filename=PosixPath('test_files_wb/6830013F.IA'))),\n ('68300195.IA',\n  SinarIA(shutter_count=2565, camera='Sinar Hy6', measured_shutter_us=4007750, req_shutter_us=4000000, f_stop=8.0, black_ref='/002000E8.EMO/683001AA.BR', iso=50, serial='e22-05-0311', white_balance_name=<WhiteBalance.Shadow: 3>, focal_length=0.0, filename=PosixPath('test_files_wb/68300195.IA'))),\n ('683001DE.IA',\n  SinarIA(shutter_count=2566, camera='Sinar Hy6', measured_shutter_us=4007750, req_shutter_us=4000000, f_stop=8.0, black_ref='/002000E8.EMO/683001F3.BR', iso=50, serial='e22-05-0311', white_balance_name=<WhiteBalance.Sun: 4>, focal_length=0.0, filename=PosixPath('test_files_wb/683001DE.IA'))),\n ('68300273.IA',\n  SinarIA(shutter_count=2567, camera='Sinar Hy6', measured_shutter_us=4004750, req_shutter_us=4000000, f_stop=8.0, black_ref='/002000E8.EMO/68300288.BR', iso=50, serial='e22-05-0311', white_balance_name=<WhiteBalance.Cloudy: 5>, focal_length=0.0, filename=PosixPath('test_files_wb/68300273.IA'))),\n ('683002E1.IA',\n  SinarIA(shutter_count=2568, camera='Sinar Hy6', measured_shutter_us=4005750, req_shutter_us=4000000, f_stop=8.0, black_ref='/002000E8.EMO/683002F6.BR', iso=50, serial='e22-05-0311', white_balance_name=<WhiteBalance.Manual: 7>, focal_length=0.0, filename=PosixPath('test_files_wb/683002E1.IA'))),\n ('683003CA.IA',\n  SinarIA(shutter_count=2569, camera='Sinar Hy6', measured_shutter_us=4008500, req_shutter_us=4000000, f_stop=32.0, black_ref='/002000E8.EMO/683003E0.BR', iso=50, serial='e22-05-0311', white_balance_name=<WhiteBalance.Manual: 7>, focal_length=0.0, filename=PosixPath('test_files_wb/683003CA.IA'))),\n ('683004E0.IA',\n  SinarIA(shutter_count=2570, camera='Sinar Hy6', measured_shutter_us=4006000, req_shutter_us=4000000, f_stop=8.0, black_ref='/002000E8.EMO/683004F5.BR', iso=50, serial='e22-05-0311', white_balance_name=<WhiteBalance.Manual: 7>, focal_length=80.0, filename=PosixPath('test_files_wb/683004E0.IA'))),\n ('6830054F.IA',\n  SinarIA(shutter_count=2571, camera='Sinar Hy6', measured_shutter_us=4006000, req_shutter_us=4000000, f_stop=2.8, black_ref='/002000E8.EMO/68300564.BR', iso=50, serial='e22-05-0311', white_balance_name=<WhiteBalance.Manual: 7>, focal_length=80.0, filename=PosixPath('test_files_wb/6830054F.IA')))]"
     },
     "execution_count": 92,
     "metadata": {},
     "output_type": "execute_result"
    }
   ],
   "source": [
    "sorted(raws.items(), key=lambda i: i[1].shutter_count)"
   ]
  },
  {
   "cell_type": "code",
   "execution_count": 93,
   "id": "799b9118",
   "metadata": {},
   "outputs": [],
   "source": [
    "test_img = Path('/Users/mgolub2/Pictures/002000E8.EMO/682FD801.IA')\n",
    "sinar_ia = read_sinar(test_img)\n",
    "img = process_raw(sinar_ia)"
   ]
  },
  {
   "cell_type": "code",
   "execution_count": 94,
   "id": "1f904eca",
   "metadata": {},
   "outputs": [],
   "source": [
    "nimg = np.clip(norm(img), 0, 1)\n",
    "nimg[np.isnan(nimg)] = 0\n",
    "out = demosaicing_CFA_Bayer_Menon2007(nimg, \"RGGB\")\n",
    "Image.fromarray((out*255).astype('uint8'), mode='RGB').rotate(90).show()\n",
    "\n"
   ]
  },
  {
   "cell_type": "code",
   "execution_count": 95,
   "id": "d1fdd8a8",
   "metadata": {},
   "outputs": [],
   "source": [
    "with open('/Users/mgolub2/Projects/sinar_emotion/ccd.dat/00525025.ref', 'rb') as ccdfp:\n",
    "    ccd = ccdfp.read()\n",
    "with open('/Users/mgolub2/Projects/sinar_emotion/ccd.dat/00525025.dat', 'rb') as datfp:\n",
    "    dat = datfp.read()"
   ]
  },
  {
   "cell_type": "code",
   "execution_count": 96,
   "id": "0ec625ea",
   "metadata": {},
   "outputs": [
    {
     "data": {
      "text/plain": "(5344, 4008)"
     },
     "execution_count": 96,
     "metadata": {},
     "output_type": "execute_result"
    }
   ],
   "source": [
    "from pidng.core import RAW2DNG, DNGTags, Tag\n",
    "from pidng.defs import PhotometricInterpretation, Orientation,\\\n",
    "    CFAPattern, CalibrationIlluminant, DNGVersion, PreviewColorSpace\n",
    "img.shape"
   ]
  },
  {
   "cell_type": "code",
   "execution_count": 98,
   "id": "6405430f",
   "metadata": {},
   "outputs": [
    {
     "name": "stdout",
     "output_type": "stream",
     "text": [
      "Converted /Users/mgolub2/Pictures/002000E8.EMO/682FD801.IA to 682FD801_combo.dng\n"
     ]
    }
   ],
   "source": [
    "# uncalibrated color matrix, just for demo.\n",
    "mult = 1000000000\n",
    "ccm1 = [[690277635, mult],  [81520691, mult], [-52482637, mult],\n",
    "        [-674076304, mult], [1469691720, mult], [769255116, mult],\n",
    "        [-180923460, mult], [390943643, mult], [1601514930, mult]]\n",
    "\n",
    "def create_ia_dng(img: SinarIA, bpp=16, mode='COMBO'):\n",
    "    t = DNGTags()\n",
    "    nd_img = process_raw(img, mode=mode)\n",
    "    h, w = nd_img.shape\n",
    "    db_model = img.serial.split('-')[0]\n",
    "    t.set(Tag.ImageWidth, w)\n",
    "    t.set(Tag.ImageLength, h)\n",
    "    # t.set(Tag.TileWidth, w)\n",
    "    # t.set(Tag.TileLength, h)\n",
    "    t.set(Tag.Orientation, 8) # Rotate 270 CW\n",
    "    t.set(Tag.PhotometricInterpretation, PhotometricInterpretation.Color_Filter_Array)\n",
    "    t.set(Tag.SamplesPerPixel, 1)\n",
    "    t.set(Tag.BitsPerSample, bpp)\n",
    "    t.set(Tag.CFARepeatPatternDim, [2,2])\n",
    "    t.set(Tag.CFAPattern, CFAPattern.RGGB)\n",
    "    #t.set(Tag.BlackLevel, (4096 >> (16 - bpp)))\n",
    "    t.set(Tag.WhiteLevel, 2**bpp-1)\n",
    "    t.set(Tag.ColorMatrix1, ccm1)\n",
    "    t.set(Tag.CalibrationIlluminant1, CalibrationIlluminant.D50)\n",
    "    t.set(Tag.AsShotNeutral, [[1,1],[1,1],[1,1]])\n",
    "    t.set(Tag.Make, img.camera)\n",
    "    t.set(Tag.Model, db_model)\n",
    "    t.set(Tag.DNGVersion, DNGVersion.V1_4)\n",
    "    t.set(Tag.DNGBackwardVersion, DNGVersion.V1_2)\n",
    "    t.set(Tag.EXIFPhotoBodySerialNumber, img.serial)\n",
    "    t.set(Tag.CameraSerialNumber, img.serial)\n",
    "    t.set(Tag.ExposureTime, [(img.measured_shutter_us, 1000000)])\n",
    "    t.set(Tag.PhotographicSensitivity, img.iso)\n",
    "    t.set(Tag.SensitivityType, 3)\n",
    "    t.set(Tag.FocalLength, [(int(img.focal_length), 1)])\n",
    "    t.set(Tag.UniqueCameraModel, f'{db_model} on {img.camera}')\n",
    "    t.set(Tag.FNumber, [(int(img.f_stop*100), 100)])\n",
    "    t.set(Tag.BayerGreenSplit, 0)\n",
    "    t.set(Tag.Software, 'PYEmotionDNG')\n",
    "    #t.set(Tag.PreviewColorSpace, PreviewColorSpace.sRGB)\n",
    "    r = RAW2DNG()\n",
    "    r.options(t, path=\"\", compress=False)\n",
    "    filename = f\"{img.filename.stem}_{mode.lower()}.dng\"\n",
    "    r.convert(nd_img, filename=filename)\n",
    "    print(f'Converted {img.filename} to {filename}')\n",
    "\n",
    "create_ia_dng(sinar_ia)"
   ]
  },
  {
   "cell_type": "code",
   "execution_count": null,
   "outputs": [],
   "source": [
    "for k, v in sorted(raws.items(), key=lambda i: i[1].shutter_count):\n",
    "    #start = 360\n",
    "    #end = 200\n",
    "    with open(f'{v.shutter_count}_meta.bin', 'wb')as metafp:\n",
    "        metafp.write(v.meta)\n",
    "    #print(v.meta[start:start+end], end='\\t')\n",
    "    #print(gle(v.meta[start:start+end]))"
   ],
   "metadata": {
    "collapsed": false,
    "pycharm": {
     "name": "#%%\n"
    }
   }
  },
  {
   "cell_type": "code",
   "execution_count": 13,
   "id": "eba5c433",
   "metadata": {
    "pycharm": {
     "name": "#%%\n"
    }
   },
   "outputs": [
    {
     "data": {
      "text/plain": [
       "(5344, 4008)"
      ]
     },
     "execution_count": 13,
     "metadata": {},
     "output_type": "execute_result"
    }
   ],
   "source": [
    "img.shape\n",
    "\n"
   ]
  }
 ],
 "metadata": {
  "kernelspec": {
   "display_name": "PyCharm (PYemotionDNG)",
   "language": "python",
   "name": "pycharm-c4269755"
  },
  "language_info": {
   "codemirror_mode": {
    "name": "ipython",
    "version": 3
   },
   "file_extension": ".py",
   "mimetype": "text/x-python",
   "name": "python",
   "nbconvert_exporter": "python",
   "pygments_lexer": "ipython3",
   "version": "3.9.12"
  }
 },
 "nbformat": 4,
 "nbformat_minor": 5
}