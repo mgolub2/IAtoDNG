{
 "cells": [
  {
   "cell_type": "code",
   "execution_count": 1,
   "id": "99029d81",
   "metadata": {
    "pycharm": {
     "name": "#%%\n"
    }
   },
   "outputs": [],
   "source": [
    "import os\n",
    "\n",
    "from matplotlib.pyplot import imshow\n",
    "from PIL import Image\n",
    "from pathlib import Path\n",
    "import numpy as np\n",
    "import colour\n",
    "from dataclasses import dataclass, field\n",
    "from enum import Enum\n",
    "import rawpy\n",
    "\n",
    "\n",
    "from colour_demosaicing import (\n",
    "    EXAMPLES_RESOURCES_DIRECTORY,\n",
    "    demosaicing_CFA_Bayer_bilinear,\n",
    "    demosaicing_CFA_Bayer_Malvar2004,\n",
    "    demosaicing_CFA_Bayer_Menon2007,\n",
    "    masks_CFA_Bayer,\n",
    ")"
   ]
  },
  {
   "cell_type": "code",
   "execution_count": 38,
   "id": "3cee96ed",
   "metadata": {
    "pycharm": {
     "name": "#%%\n"
    }
   },
   "outputs": [],
   "source": [
    "colour.plotting.colour_style()\n",
    "\n",
    "META_KEY = b\"META\\x00\\xa5\\xa5\\xa5\"\n",
    "RAW_KEY = b\"RAW0\\x000\\x00\\xa5\"\n",
    "TEST_FILES = Path(\"test_files_wb\")\n",
    "MODEL = {\"e22\": \"Emotion 22\"}\n",
    "\n",
    "norm2 = lambda x: np.clip((x - x.max()) * (1 / (x.min() - x.max())), 0, 1)\n",
    "norm = lambda x: (x - np.min(x)) / (np.max(x) - np.min(x))\n",
    "gle = lambda b: int.from_bytes(b, byteorder=\"little\")\n",
    "gli = lambda b, s: int.from_bytes(b[s : s + 4], byteorder=\"little\")\n",
    "gls = lambda b, s: int.from_bytes(b[s : s + 2], byteorder=\"little\")\n",
    "gbi = lambda b, s: int.from_bytes(b[s : s + 4], byteorder=\"big\")\n",
    "gbs = lambda b, s: int.from_bytes(b[s : s + 2], byteorder=\"big\")\n",
    "\n",
    "\n",
    "class WhiteBalance(Enum):\n",
    "    Manual = 7\n",
    "    Flash = 0\n",
    "    Neon = 1\n",
    "    Tungsten = 2\n",
    "    Shadow = 3\n",
    "    Sun = 4\n",
    "    Cloudy = 5\n",
    "\n",
    "    def __str__(self):\n",
    "        return str(self.name)\n",
    "\n",
    "\n",
    "def gwad(raw, start, offset):\n",
    "    return raw[start : start + offset]\n",
    "\n",
    "\n",
    "def read_raw(path):\n",
    "    with open(path, \"rb\") as rawfp:\n",
    "        raw = rawfp.read()\n",
    "    return raw\n",
    "\n",
    "\n",
    "def read_pwad_lumps(raw):\n",
    "    lumps = {}\n",
    "    ftype, num_file, offset = get_pwad_info(raw)\n",
    "    for i in range(num_file):\n",
    "        file_entry_start = offset + i * 16\n",
    "        fe_offset = gle(raw[file_entry_start : file_entry_start + 4])\n",
    "        fe_size = gle(raw[file_entry_start + 4 : file_entry_start + 8])\n",
    "        name = raw[file_entry_start + 8 : file_entry_start + 16]\n",
    "        # print(f'{name}: fe_offset: {fe_offset}, fe_size: {fe_size} bytes')\n",
    "        lumps[name] = (fe_offset, fe_size)\n",
    "    return lumps\n",
    "\n",
    "\n",
    "def get_pwad_info(raw):\n",
    "    ftype = raw[0:4]\n",
    "    num_file = gle(raw[4:8])\n",
    "    offset = gle(raw[8:12])\n",
    "    # print(f'ftype: {ftype}, {num_file}, {offset}')\n",
    "    return ftype, num_file, offset\n",
    "\n",
    "\n",
    "@dataclass\n",
    "class SinarIA:\n",
    "    shutter_count: int\n",
    "    camera: str\n",
    "    measured_shutter_us: int\n",
    "    req_shutter_us: int\n",
    "    f_stop: int\n",
    "    black_ref: str\n",
    "    iso: int\n",
    "    serial: str\n",
    "    white_balance_name: WhiteBalance\n",
    "    focal_length: int\n",
    "    filename: Path = field(default=Path(\"\"))\n",
    "    raw_data: bytes = field(default_factory=bytes, repr=False)\n",
    "    meta: bytes = field(default_factory=bytes, repr=False)\n",
    "\n",
    "\n",
    "def process_meta(meta: bytes):\n",
    "    shutter_count = gli(meta, 4)\n",
    "    camera = meta[20:64].decode(\"ascii\").rstrip(\"\\x00\")\n",
    "    white_balance_name = WhiteBalance(gls(meta, 100))\n",
    "    shutter_time_us = gli(meta, 104)\n",
    "    black_ref = meta[108 : 108 + 128].decode(\"ascii\").rstrip(\"\\x00\")\n",
    "    iso = gli(meta, 252)\n",
    "    serial = meta[272 : 272 + 16].decode(\"ascii\").rstrip(\"\\x00\")\n",
    "    shutter_time_us_2 = gli(meta, 344)\n",
    "    f_stop = round(gls(meta, 352) / 256, 1)\n",
    "    focal_length = round(gli(meta, 356) / 1000, 0)\n",
    "    return SinarIA(\n",
    "        shutter_count=shutter_count,\n",
    "        camera=camera,\n",
    "        measured_shutter_us=shutter_time_us,\n",
    "        req_shutter_us=shutter_time_us_2,\n",
    "        f_stop=f_stop,\n",
    "        black_ref=black_ref,\n",
    "        iso=iso,\n",
    "        serial=serial,\n",
    "        meta=meta,\n",
    "        white_balance_name=white_balance_name,\n",
    "        focal_length=focal_length,\n",
    "    )\n",
    "\n",
    "\n",
    "def read_sinar(path: Path):\n",
    "    raw = read_raw(path)\n",
    "    lumps = read_pwad_lumps(raw)\n",
    "    meta = gwad(raw, *lumps[META_KEY])\n",
    "    sinar_ia = process_meta(meta)\n",
    "    raw_data = gwad(raw, *lumps[RAW_KEY])\n",
    "    sinar_ia.raw_data = raw_data\n",
    "    sinar_ia.filename = path\n",
    "    return sinar_ia\n",
    "\n",
    "\n",
    "def read_black_ref(path: Path, img, mode=\"BLACK1\"):\n",
    "    black = read_raw(path)\n",
    "    lumps = read_pwad_lumps(black)\n",
    "    black0 = gwad(black, *lumps[b\"BLACK0\\x00\\xa5\"])\n",
    "    black1 = gwad(black, *lumps[b\"BLACK1\\x00\\xa5\"])\n",
    "    black0_img = np.asarray(Image.frombytes(\"I;16L\", img.size, black0, \"raw\"))\n",
    "    black1_img = np.asarray(Image.frombytes(\"I;16L\", img.size, black1, \"raw\"))\n",
    "    if mode == \"BLACK1\":\n",
    "        return black1_img\n",
    "    elif mode == \"BLACK0\":\n",
    "        return black0_img\n",
    "    elif mode == \"COMBO\":\n",
    "        return black1_img - black0_img\n",
    "    else:\n",
    "        raise Exception(\"Mode not found!\")\n",
    "\n",
    "\n",
    "def get_raw_pillow(RAW: SinarIA, h, w):\n",
    "    RAW0 = RAW.raw_data\n",
    "    assert (h * w * 16) / 8 == len(RAW0)\n",
    "    img = Image.frombytes(\"I;16L\", (w, h), RAW0, \"raw\")\n",
    "    return img\n",
    "\n",
    "\n",
    "def apply_local_black_ref(img: Image, black_path: Path, mode=\"COMBO\"):\n",
    "    BLACK = read_black_ref(black_path, img, mode=mode)\n",
    "    nd_img = np.asarray(BLACK)\n",
    "    return img - nd_img\n",
    "\n",
    "\n",
    "def process_raw(RAW: SinarIA, h=5344, w=4008, mode=\"COMBO\"):\n",
    "    img = get_raw_pillow(RAW, h, w)\n",
    "    black_path = RAW.filename.parent.absolute() / Path(RAW.black_ref).name\n",
    "    nd_img = apply_local_black_ref(img, black_path, mode=mode)\n",
    "    return nd_img\n",
    "\n",
    "\n",
    "def sinar_ia_to_pil(path: Path, h=5344, w=4008):\n",
    "    sinar_ia = read_sinar(path)\n",
    "    nd_img = process_raw(sinar_ia, h=h, w=w)\n",
    "    out = demosaicing_CFA_Bayer_Menon2007(norm(nd_img), \"RGGB\")\n",
    "    return Image.fromarray((out * 65536).astype(\"uint16\"), mode=\"RGB\")"
   ]
  },
  {
   "cell_type": "code",
   "execution_count": 3,
   "id": "a81b3868",
   "metadata": {
    "pycharm": {
     "name": "#%%\n"
    }
   },
   "outputs": [
    {
     "name": "stdout",
     "output_type": "stream",
     "text": [
      "Reading 683003CA.IA...\n",
      "Reading 68300273.IA...\n",
      "Reading 6830013F.IA...\n",
      "Reading 6830007F.IA...\n",
      "Reading 683000EE.IA...\n",
      "Reading 68300195.IA...\n",
      "Reading 683002E1.IA...\n",
      "Reading 683001DE.IA...\n",
      "Reading 682FFF96.IA...\n",
      "Reading 683004E0.IA...\n",
      "Reading 6830054F.IA...\n"
     ]
    }
   ],
   "source": [
    "raws = {}\n",
    "for ia in TEST_FILES.glob(\"*.IA\"):\n",
    "    print(f\"Reading {ia.name}...\")\n",
    "    raw = read_sinar(ia)\n",
    "    raws[raw.filename.name] = raw"
   ]
  },
  {
   "cell_type": "code",
   "execution_count": 4,
   "id": "b2f8d630",
   "metadata": {
    "pycharm": {
     "name": "#%%\n"
    }
   },
   "outputs": [
    {
     "data": {
      "text/plain": [
       "[('682FFF96.IA',\n",
       "  SinarIA(shutter_count=2561, camera='Sinar Hy6', measured_shutter_us=4008000, req_shutter_us=4000000, f_stop=8.0, black_ref='/002000E8.EMO/682FFFAB.BR', iso=50, serial='e22-05-0311', white_balance_name=<WhiteBalance.Manual: 7>, focal_length=0.0, filename=PosixPath('test_files_wb/682FFF96.IA'))),\n",
       " ('6830007F.IA',\n",
       "  SinarIA(shutter_count=2562, camera='Sinar Hy6', measured_shutter_us=4007750, req_shutter_us=4000000, f_stop=8.0, black_ref='/002000E8.EMO/68300094.BR', iso=50, serial='e22-05-0311', white_balance_name=<WhiteBalance.Flash: 0>, focal_length=0.0, filename=PosixPath('test_files_wb/6830007F.IA'))),\n",
       " ('683000EE.IA',\n",
       "  SinarIA(shutter_count=2563, camera='Sinar Hy6', measured_shutter_us=4007750, req_shutter_us=4000000, f_stop=8.0, black_ref='/002000E8.EMO/68300104.BR', iso=50, serial='e22-05-0311', white_balance_name=<WhiteBalance.Neon: 1>, focal_length=0.0, filename=PosixPath('test_files_wb/683000EE.IA'))),\n",
       " ('6830013F.IA',\n",
       "  SinarIA(shutter_count=2564, camera='Sinar Hy6', measured_shutter_us=4007750, req_shutter_us=4000000, f_stop=8.0, black_ref='/002000E8.EMO/68300154.BR', iso=50, serial='e22-05-0311', white_balance_name=<WhiteBalance.Tungsten: 2>, focal_length=0.0, filename=PosixPath('test_files_wb/6830013F.IA'))),\n",
       " ('68300195.IA',\n",
       "  SinarIA(shutter_count=2565, camera='Sinar Hy6', measured_shutter_us=4007750, req_shutter_us=4000000, f_stop=8.0, black_ref='/002000E8.EMO/683001AA.BR', iso=50, serial='e22-05-0311', white_balance_name=<WhiteBalance.Shadow: 3>, focal_length=0.0, filename=PosixPath('test_files_wb/68300195.IA'))),\n",
       " ('683001DE.IA',\n",
       "  SinarIA(shutter_count=2566, camera='Sinar Hy6', measured_shutter_us=4007750, req_shutter_us=4000000, f_stop=8.0, black_ref='/002000E8.EMO/683001F3.BR', iso=50, serial='e22-05-0311', white_balance_name=<WhiteBalance.Sun: 4>, focal_length=0.0, filename=PosixPath('test_files_wb/683001DE.IA'))),\n",
       " ('68300273.IA',\n",
       "  SinarIA(shutter_count=2567, camera='Sinar Hy6', measured_shutter_us=4004750, req_shutter_us=4000000, f_stop=8.0, black_ref='/002000E8.EMO/68300288.BR', iso=50, serial='e22-05-0311', white_balance_name=<WhiteBalance.Cloudy: 5>, focal_length=0.0, filename=PosixPath('test_files_wb/68300273.IA'))),\n",
       " ('683002E1.IA',\n",
       "  SinarIA(shutter_count=2568, camera='Sinar Hy6', measured_shutter_us=4005750, req_shutter_us=4000000, f_stop=8.0, black_ref='/002000E8.EMO/683002F6.BR', iso=50, serial='e22-05-0311', white_balance_name=<WhiteBalance.Manual: 7>, focal_length=0.0, filename=PosixPath('test_files_wb/683002E1.IA'))),\n",
       " ('683003CA.IA',\n",
       "  SinarIA(shutter_count=2569, camera='Sinar Hy6', measured_shutter_us=4008500, req_shutter_us=4000000, f_stop=32.0, black_ref='/002000E8.EMO/683003E0.BR', iso=50, serial='e22-05-0311', white_balance_name=<WhiteBalance.Manual: 7>, focal_length=0.0, filename=PosixPath('test_files_wb/683003CA.IA'))),\n",
       " ('683004E0.IA',\n",
       "  SinarIA(shutter_count=2570, camera='Sinar Hy6', measured_shutter_us=4006000, req_shutter_us=4000000, f_stop=8.0, black_ref='/002000E8.EMO/683004F5.BR', iso=50, serial='e22-05-0311', white_balance_name=<WhiteBalance.Manual: 7>, focal_length=80.0, filename=PosixPath('test_files_wb/683004E0.IA'))),\n",
       " ('6830054F.IA',\n",
       "  SinarIA(shutter_count=2571, camera='Sinar Hy6', measured_shutter_us=4006000, req_shutter_us=4000000, f_stop=2.8, black_ref='/002000E8.EMO/68300564.BR', iso=50, serial='e22-05-0311', white_balance_name=<WhiteBalance.Manual: 7>, focal_length=80.0, filename=PosixPath('test_files_wb/6830054F.IA')))]"
      ]
     },
     "execution_count": 4,
     "metadata": {},
     "output_type": "execute_result"
    }
   ],
   "source": [
    "sorted(raws.items(), key=lambda i: i[1].shutter_count)"
   ]
  },
  {
   "cell_type": "code",
   "execution_count": 5,
   "id": "799b9118",
   "metadata": {
    "pycharm": {
     "name": "#%%\n"
    }
   },
   "outputs": [],
   "source": [
    "test_img = Path(\"/Users/mgolub2/Pictures/002000E8.EMO/682FD801.IA\")\n",
    "sinar_ia = read_sinar(test_img)\n",
    "img = process_raw(sinar_ia)"
   ]
  },
  {
   "cell_type": "code",
   "execution_count": 6,
   "id": "1f904eca",
   "metadata": {
    "pycharm": {
     "name": "#%%\n"
    }
   },
   "outputs": [],
   "source": [
    "nimg = np.clip(norm(img), 0, 1)\n",
    "nimg[np.isnan(nimg)] = 0\n",
    "out = demosaicing_CFA_Bayer_Menon2007(nimg, \"RGGB\")\n",
    "Image.fromarray((out * 255).astype(\"uint8\"), mode=\"RGB\").rotate(90).show()"
   ]
  },
  {
   "cell_type": "code",
   "execution_count": 7,
   "id": "d1fdd8a8",
   "metadata": {
    "pycharm": {
     "name": "#%%\n"
    }
   },
   "outputs": [],
   "source": [
    "with open(\"/Users/mgolub2/Projects/sinar_emotion/ccd.dat/00525025.ref\", \"rb\") as ccdfp:\n",
    "    ccd = ccdfp.read()\n",
    "with open(\"/Users/mgolub2/Projects/sinar_emotion/ccd.dat/00525025.dat\", \"rb\") as datfp:\n",
    "    dat = datfp.read()"
   ]
  },
  {
   "cell_type": "code",
   "execution_count": 8,
   "id": "0ec625ea",
   "metadata": {
    "pycharm": {
     "name": "#%%\n"
    }
   },
   "outputs": [
    {
     "data": {
      "text/plain": [
       "(5344, 4008)"
      ]
     },
     "execution_count": 8,
     "metadata": {},
     "output_type": "execute_result"
    }
   ],
   "source": [
    "from pidng.core import RAW2DNG, DNGTags, Tag\n",
    "from pidng.defs import (\n",
    "    PhotometricInterpretation,\n",
    "    Orientation,\n",
    "    CFAPattern,\n",
    "    CalibrationIlluminant,\n",
    "    DNGVersion,\n",
    "    PreviewColorSpace,\n",
    ")\n",
    "\n",
    "img.shape"
   ]
  },
  {
   "cell_type": "code",
   "execution_count": 9,
   "id": "6405430f",
   "metadata": {
    "pycharm": {
     "name": "#%%\n"
    }
   },
   "outputs": [
    {
     "name": "stdout",
     "output_type": "stream",
     "text": [
      "Converted /Users/mgolub2/Pictures/002000E8.EMO/682FD801.IA to 682FD801_combo.dng\n"
     ]
    }
   ],
   "source": [
    "# uncalibrated color matrix, just for demo.\n",
    "mult = 1000000000\n",
    "ccm1 = [\n",
    "    [690277635, mult],\n",
    "    [81520691, mult],\n",
    "    [-52482637, mult],\n",
    "    [-674076304, mult],\n",
    "    [1469691720, mult],\n",
    "    [769255116, mult],\n",
    "    [-180923460, mult],\n",
    "    [390943643, mult],\n",
    "    [1601514930, mult],\n",
    "]\n",
    "\n",
    "\n",
    "def create_ia_dng(img: SinarIA, bpp=16, mode=\"COMBO\"):\n",
    "    t = DNGTags()\n",
    "    nd_img = process_raw(img, mode=mode)\n",
    "    h, w = nd_img.shape\n",
    "    db_model = img.serial.split(\"-\")[0]\n",
    "    t.set(Tag.ImageWidth, w)\n",
    "    t.set(Tag.ImageLength, h)\n",
    "    # t.set(Tag.TileWidth, w)\n",
    "    # t.set(Tag.TileLength, h)\n",
    "    t.set(Tag.Orientation, 8)  # Rotate 270 CW\n",
    "    t.set(Tag.PhotometricInterpretation, PhotometricInterpretation.Color_Filter_Array)\n",
    "    t.set(Tag.SamplesPerPixel, 1)\n",
    "    t.set(Tag.BitsPerSample, bpp)\n",
    "    t.set(Tag.CFARepeatPatternDim, [2, 2])\n",
    "    t.set(Tag.CFAPattern, CFAPattern.RGGB)\n",
    "    # t.set(Tag.BlackLevel, (4096 >> (16 - bpp)))\n",
    "    t.set(Tag.WhiteLevel, 2**bpp - 1)\n",
    "    t.set(Tag.ColorMatrix1, ccm1)\n",
    "    t.set(Tag.CalibrationIlluminant1, CalibrationIlluminant.D50)\n",
    "    t.set(Tag.AsShotNeutral, [[1, 1], [1, 1], [1, 1]])\n",
    "    t.set(Tag.Make, img.camera)\n",
    "    t.set(Tag.Model, db_model)\n",
    "    t.set(Tag.DNGVersion, DNGVersion.V1_4)\n",
    "    t.set(Tag.DNGBackwardVersion, DNGVersion.V1_2)\n",
    "    t.set(Tag.EXIFPhotoBodySerialNumber, img.serial)\n",
    "    t.set(Tag.CameraSerialNumber, img.serial)\n",
    "    t.set(Tag.ExposureTime, [(img.measured_shutter_us, 1000000)])\n",
    "    t.set(Tag.PhotographicSensitivity, img.iso)\n",
    "    t.set(Tag.SensitivityType, 3)\n",
    "    t.set(Tag.FocalLength, [(int(img.focal_length), 1)])\n",
    "    t.set(Tag.UniqueCameraModel, f\"{db_model} on {img.camera}\")\n",
    "    t.set(Tag.FNumber, [(int(img.f_stop * 100), 100)])\n",
    "    t.set(Tag.BayerGreenSplit, 0)\n",
    "    t.set(Tag.Software, \"PYEmotionDNG\")\n",
    "    # t.set(Tag.PreviewColorSpace, PreviewColorSpace.sRGB)\n",
    "    r = RAW2DNG()\n",
    "    r.options(t, path=\"\", compress=False)\n",
    "    filename = f\"{img.filename.stem}_{mode.lower()}.dng\"\n",
    "    r.convert(nd_img, filename=filename)\n",
    "    print(f\"Converted {img.filename} to {filename}\")\n",
    "\n",
    "\n",
    "create_ia_dng(sinar_ia)"
   ]
  },
  {
   "cell_type": "code",
   "execution_count": 23,
   "id": "0f86c576",
   "metadata": {
    "pycharm": {
     "name": "#%%\n"
    }
   },
   "outputs": [],
   "source": [
    "for k, v in sorted(raws.items(), key=lambda i: i[1].shutter_count):\n",
    "    # start = 360\n",
    "    # end = 200\n",
    "    with open(f\"{v.shutter_count}_meta.bin\", \"wb\") as metafp:\n",
    "        metafp.write(v.meta)\n",
    "    # print(v.meta[start:start+end], end='\\t')\n",
    "    # print(gle(v.meta[start:start+end]))"
   ]
  },
  {
   "cell_type": "code",
   "execution_count": 34,
   "id": "eba5c433",
   "metadata": {
    "pycharm": {
     "name": "#%%\n"
    }
   },
   "outputs": [
    {
     "data": {
      "text/plain": [
       "2281.9009520255895"
      ]
     },
     "execution_count": 34,
     "metadata": {},
     "output_type": "execute_result"
    }
   ],
   "source": [
    "rimg = img.swapaxes(1, 0)[::-1]\n",
    "img.mean(axis=(0, 1))\n",
    "red = rimg[0::2, 0::2]\n",
    "green1 = rimg[0::2, 1::2]\n",
    "green2 = rimg[1::2, 0::2]\n",
    "blue = rimg[1::2, 0::2]"
   ]
  },
  {
   "cell_type": "code",
   "execution_count": 13,
   "id": "05ea3340",
   "metadata": {
    "pycharm": {
     "name": "#%%\n"
    }
   },
   "outputs": [
    {
     "ename": "NameError",
     "evalue": "name 'red' is not defined",
     "output_type": "error",
     "traceback": [
      "\u001B[0;31m---------------------------------------------------------------------------\u001B[0m",
      "\u001B[0;31mNameError\u001B[0m                                 Traceback (most recent call last)",
      "Input \u001B[0;32mIn [13]\u001B[0m, in \u001B[0;36m<cell line: 1>\u001B[0;34m()\u001B[0m\n\u001B[0;32m----> 1\u001B[0m stacked \u001B[38;5;241m=\u001B[39m np\u001B[38;5;241m.\u001B[39mstack([\u001B[43mred\u001B[49m, green2, blue], axis\u001B[38;5;241m=\u001B[39m\u001B[38;5;241m-\u001B[39m\u001B[38;5;241m1\u001B[39m)\n",
      "\u001B[0;31mNameError\u001B[0m: name 'red' is not defined"
     ]
    }
   ],
   "source": [
    "stacked = np.stack([red, green2, blue], axis=-1)"
   ]
  },
  {
   "cell_type": "code",
   "execution_count": null,
   "id": "56b7a9b0",
   "metadata": {
    "pycharm": {
     "is_executing": true,
     "name": "#%%\n"
    }
   },
   "outputs": [],
   "source": [
    "imshow(norm(stacked))"
   ]
  },
  {
   "cell_type": "code",
   "execution_count": 54,
   "id": "28998634",
   "metadata": {
    "pycharm": {
     "name": "#%%\n"
    }
   },
   "outputs": [
    {
     "data": {
      "text/plain": [
       "b'CCDF\\x00\\x00\\x00\\x03\\x00\\x00\\x00\\x00\\x00\\x00\\x08 \\x00\\x00\\x00\\x07\\x00\\x00\\x00\\x00\\x00\\x00\\x00\\x00\\x00\\x00\\x00\\x00\\x00\\x00\\x00\\x00\\x00\\x00\\x00\\x00\\x00\\x00\\x00\\x00\\x00\\x00\\x00\\x00\\x00\\x00\\x00\\x00\\x00\\x00\\x00\\x00\\x00\\x00\\x00\\x00\\x00\\x00\\x00\\x00\\x00\\x00\\x00\\x00\\x00\\x00\\x00\\x00\\x00\\x00\\x00\\x00\\x00\\x00\\x00\\x00\\x00\\x00\\x00\\x00\\x00\\x00\\x00\\x00\\x00\\x00\\x00\\x00\\x00\\x00\\x00\\x00\\x00\\x00\\x00\\x00\\x00\\x00\\x00\\x00\\x00\\x00\\x00\\x00\\x00\\x00\\x00\\x00\\x00\\x00\\x00\\x00\\x00\\x00\\x00\\x00\\x00\\x00\\x00\\x00\\x00\\x00\\x00\\x00\\x00\\x00\\x00\\x00\\x00\\x00\\x00\\x00\\x00\\x00\\x00\\x00\\x00\\x00\\x00\\x00\\x00\\x00\\x00\\x00\\x00\\x00\\x00\\x00\\x00\\x00\\x00\\x00\\x00\\x00\\x00\\x00\\x00\\x00\\x00\\x00\\x00\\x00\\x00\\x00\\x00\\x00\\x00\\x00\\x00\\x00\\x00\\x00\\x00\\x00\\x00\\x00\\x00\\x00\\x00\\x00\\x00\\x00\\x00\\x00\\x00\\x00\\x00\\x00\\x00\\x00\\x00\\x00\\x00\\x00\\x00\\x00\\x00\\x00\\x00\\x00\\x00\\x00\\x00\\x00\\x00\\x00\\x00\\x00\\x00\\x00\\x00\\x00\\x00\\x00\\x00\\x00\\x00\\x00\\x00\\x00\\x00\\x00\\x00\\x00\\x00\\x00\\x00\\x00\\x00\\x00\\x00\\x00\\x00\\x00\\x00\\x00\\x00\\x00\\x00\\x00\\x00\\x00\\x00\\x00\\x00\\x00\\x00\\x00\\x00\\x00\\x00\\x00\\x00\\x00\\x00\\x00\\x00\\x00\\x00\\x00\\x00\\x00\\x00\\x00\\x00\\x00\\x00\\x00\\x00\\x00\\x00\\x00\\x00\\x00\\x00\\x00\\x00\\x00\\x00\\x00\\x00\\x00\\x00\\x00\\x00\\x00\\x00\\x00\\x00\\x00\\x00\\x00\\x00\\x00\\x00\\x00\\x00\\x00\\x00\\x00\\x00\\x00\\x00\\x00\\x00\\x00\\x00\\x00\\x00\\x00\\x00\\x00\\x00\\x00\\x00\\x00\\x00\\x00\\x00\\x00\\x00\\x00\\x00\\x00\\x00\\x00\\x00\\x00\\x00\\x00\\x00\\x00\\x00\\x00\\x00\\x00\\x00\\x00\\x00\\x00\\x00\\x00\\x00\\x00\\x00\\x00\\x00\\x00\\x00\\x00\\x00\\x00\\x00\\x00\\x00\\x00\\x00\\x00\\x00\\x00\\x00\\x00\\x00\\x00\\x00\\x00\\x00\\x00\\x00\\x00\\x00\\x00\\x00\\x00\\x00\\x00\\x00\\x00\\x00\\x00\\x00\\x00\\x00\\x00\\x00\\x00\\x00\\x00\\x00\\x00\\x00\\x00\\x00\\x00\\x00\\x00\\x00\\x00\\x00\\x00\\x00\\x00\\x00\\x00\\x00\\x00\\x00\\x00\\x00\\x00\\x00\\x00\\x00\\x00\\x00\\x00\\x00\\x00\\x00\\x00\\x00\\x00\\x00\\x00\\x00\\x00\\x00\\x00\\x00\\x00\\x00\\x00\\x00\\x00\\x00\\x00\\x00\\x00\\x00\\x00\\x00\\x00\\x00\\x00\\x00\\x00\\x00\\x00\\x00\\x00\\x00\\x00\\x00\\x00\\x00\\x00\\x00\\x00\\x00\\x00\\x00\\x00\\x00\\x00\\x00\\x00\\x00\\x00\\x00\\x00\\x00\\x00\\x00\\x00\\x00\\x00\\x00\\x00\\x00\\x00\\x00\\x00\\x00\\x00\\x00\\x00\\x00\\x00\\x00\\x00\\x00\\x00\\x00\\x00\\x00\\x00\\x00\\x00\\x00\\x00\\x00\\x00\\x00\\x00\\x00\\x00\\x00\\x00\\x01\\x00\\x02\\x00I\\x01MC\\xbe\\x01\\x03\\x00\\x06\\x00\\x02\\x00\\x13\\x00\\x17\\x00\\xe0\\x14\\xa8\\x0f\\x00\\x00\\x00\\x00\\x80\\xba\\xce@\\x8d\\n,\\x00\\xb4\\x022\\x00\\x12\\x056\\x00\\x92\\rP\\x00\\x8a\\x02W\\x00z\\ta\\x00\\x04\\x04\\x84\\x00\\xb2\\x00\\x8c\\x00H\\x01\\xa5\\x00\\n\\x00\\xa9\\x00\\xe2\\x0c\\xac\\x00h\\x01\\xbe\\x00\\x8d\\t\\xc0\\x00\\xc0\\x01\\xc2\\x00P\\t\\xd2\\x00\\xd2\\x04\\xe2\\x00\\x81\\x06\\xe3\\x00\\xc2\\x01\\xe7\\x00f\\x04\\xfc\\x00P\\x0f3\\x01\\x89\\t6\\x01\\xd9\\x0c:\\x01\\xac\\x07B\\x01D\\x07D\\x01\\xc8\\x06H\\x01\\\\\\x03W\\x01>\\tW\\x01\\xfa\\x05^\\x01\\xfa\\x06j\\x01\\x01\\x0cs\\x01<\\x00~\\x01O\\x0b\\x95\\x01\\xee\\x0c\\x98\\x01\\xf2\\x03\\x9e\\x01L\\x04\\xa4\\x01$\\x06\\xa7\\x01\\xd8\\x06\\xb3\\x01\\x98\\x03\\xb5\\x01\\x0f\\x01\\xc2\\x01\\x92\\x02\\xc8\\x01\\x86\\x02\\xd2\\x01\\xd8\\x05\\xd5\\x01\\x92\\x0e\\xdc\\x01t\\x02\\xe2\\x01\\xf6\\x04\\xe5\\x01\\xcb\\x06\\xe6\\x01\\xf5\\x0e\\xfd\\x01l\\x08\\x14\\x02<\\x02\\x1e\\x02%\\x014\\x02\"\\x079\\x02?\\x04B\\x02\\x14\\x02D\\x02\\xbe\\x0eE\\x02A\\x0fJ\\x02\\xca\\x0cL\\x02\\xf7\\x0cS\\x02C\\x0fV\\x02e\\x00[\\x02C\\x01`\\x02l\\x05g\\x02\\x86\\x0cn\\x02\\xf1\\x06r\\x02@\\tv\\x02\\x0e\\x04\\x80\\x02Q\\t\\x94\\x02\\xda\\x0b\\x98\\x02\\x03\\x03\\x9a\\x02\\xf9\\x04\\xc0\\x02t\\x00\\xd8\\x02\\xcf\\x03\\xe8\\x026\\x05\\xe9\\x02a\\x03\\xf6\\x02\\x9d\\x0c\\x04\\x03\\xf9\\x03\\x12\\x03F\\x01\\x13\\x03\\xb5\\r,\\x03x\\x0cT\\x03\\x05\\x0cp\\x03F\\x01u\\x03J\\x05\\x84\\x03w\\x04\\xfa\\x03\\xb6\\x00\\xfd\\x03\\xc9\\x00\\x06\\x04v\\x0e\\x12\\x04\\xba\\x04\\x15\\x04\\x84\\x0b\\x1c\\x04\\x10\\x075\\x04P\\x037\\x04\\xb9\\x038\\x04\\x1c\\x0fG\\x04\\xe2\\x0bW\\x04\\xf4\\x0ed\\x04\\xc6\\x04m\\x04\\xb2\\x03p\\x04\\x88\\x0bs\\x04i\\x00z\\x04\\xb0\\x01\\x8a\\x04(\\x00\\xa4\\x04\\x86\\x03\\xa7\\x04`\\x02\\xa9\\x04\\xf4\\x0c\\xaa\\x04\\xb6\\x04\\xb8\\x04\\xe8\\x04\\xc5\\x04\\x1a\\x0b\\xcc\\x04/\\x0e\\xd6\\x04\\xbc\\t\\xdf\\x04\\t\\t\\xe4\\x04\\x8b\\x0e\\xe4\\x04\\xef\\t\\xf4\\x04\\xc1\\x02%\\x05\\xa9\\x0b6\\x05\\xcc\\x068\\x05\\xda\\nT\\x05\\xd9\\x00[\\x05`\\r]\\x05k\\x0e\\x96\\x05\\x04\\x0b\\xa4\\x05\\x0b\\x02\\xc0\\x05d\\x02\\xef\\x05'"
      ]
     },
     "execution_count": 54,
     "metadata": {},
     "output_type": "execute_result"
    }
   ],
   "source": [
    "dat[0:1024]"
   ]
  },
  {
   "cell_type": "code",
   "execution_count": 63,
   "id": "0674dcf7",
   "metadata": {
    "pycharm": {
     "name": "#%%\n"
    }
   },
   "outputs": [
    {
     "data": {
      "text/plain": [
       "b'WSHF\\x00\\x00\\x00\\x03\\x00\\x00\\x00\\x00\\x00\\x00\\x05\\xdc\\x00\\x00\\x00\\x07\\x00\\x00\\x00\\x00\\x00\\x00\\x00\\x00\\x00\\x00\\x00\\x00\\x00\\x00\\x00\\x00\\x00\\x00\\x0f\\xa8\\x00\\x00\\x14\\xe0\\x00\\x00\\x00\\x0e\\x00\\x01\\x00\\x00\\x00\\x00\\x00\\x00\\x00\\x00\\x00\\x00\\x00\\x00\\x00\\x00\\x00\\x00\\x00\\x00\\x00\\x00\\x00\\x00\\x00\\x00\\x00\\x00\\x00\\x00\\x00\\x00\\x00\\x00\\x00\\x00\\x00\\x00\\x00\\x00\\x00\\x00\\x00\\x00\\x00\\x00\\x00\\x00\\x00\\x00\\x00\\x00\\x00\\x00\\x00\\x00\\x00\\x00\\x00\\x00\\x00\\x00\\x00\\x00\\x00\\x00\\x00\\x00\\x00\\x00\\x00\\x00\\x00\\x00\\x00\\x00\\x00\\x00\\x00\\x00\\x00\\x00\\x00\\x00\\x00\\x00\\x00\\x00\\x00\\x00\\x00\\x00\\x00\\x00\\x00\\x00\\x00\\x00\\x00\\x00\\x00\\x00\\x00\\x00\\x00\\x00\\x00\\x00\\x00\\x00\\x00\\x00\\x00\\x00\\x00\\x00\\x00\\x00\\x00\\x00\\x00\\x00\\x00\\x00\\x00\\x00\\x00\\x00\\x00\\x00\\x00\\x00\\x00\\x00\\x00\\x00\\x00\\x00\\x00\\x00\\x00\\x00\\x00\\x00\\x00\\x00\\x00\\x00\\x00\\x00\\x00\\x00\\x00\\x00\\x00\\x00\\x00\\x00\\x00\\x00\\x00\\x00\\x00\\x00\\x00\\x00\\x00\\x00\\x00\\x00\\x00\\x00\\x00\\x00\\x00\\x00\\x00\\x00\\x00\\x00\\x00\\x00\\x00\\x00\\x00\\x00\\x00\\x00\\x00\\x00\\x00\\x00\\x00\\x00\\x00\\x00\\x00\\x00\\x00\\x00\\x00\\x00\\x00\\x00\\x00\\x00\\x00\\x00\\x00\\x00\\x00\\x00\\x00\\x00\\x00\\x00\\x00\\x00\\x00\\x00\\x00\\x00\\x00\\x00\\x00\\x00\\x00\\x00\\x00\\x00\\x00\\x00\\x00\\x00\\x00\\x00\\x00\\x00\\x00\\x00\\x00\\x00\\x00\\x00\\x00\\x00\\x00\\x00\\x00\\x00\\x00\\x00\\x00\\x00\\x00\\x00\\x00\\x00\\x00\\x00\\x00\\x00\\x00\\x00\\x00\\x00\\x00\\x00\\x00\\x00\\x00\\x00\\x00\\x00\\x00\\x00\\x00\\x00\\x00\\x00\\x00\\x00\\x00\\x00\\x00\\x00\\x00\\x00\\x00\\x00\\x00\\x00\\x00\\x00\\x00\\x00\\x00\\x00\\x00\\x00\\x00\\x00\\x00\\x00\\x00\\x00\\x00\\x00\\x00\\x00\\x00\\x00\\x00\\x00\\x00\\x00\\x00\\x00\\x00\\x00\\x00\\x00\\x00\\x00C2\\x00\\x00f\\x02MC\\x00L\\x04\\x00\\xe8\\x00 \\x00\\x08.\\x00\\x00\\x986\\x00\\x00\\t7\\x00\\x00\\xfd-\\x00\\x00\\x132\\x01\\x00\\x12\\x02\\x01\\x00\\x00\\x00\\x01\\x00\\\\2\\x01\\x00\\x00\\x00\\x00\\x00\\x00\\x00\\x00\\x00\\x00\\x00\\x00\\x00\\x00\\x00\\x00\\x00\\x00\\x00\\x00\\x00\\x00\\x00\\x00\\x00\\x00\\x00\\x00\\x00\\x00\\x00\\x00\\x00\\x00\\x00\\x00\\x00\\x00\\x00\\x00\\x00\\x00\\x00\\x00\\x00\\x00\\x00\\x00\\x00\\x00\\x00\\x00\\x00\\x00\\x00\\x00\\x00\\x00\\x00\\x00\\x00\\x00\\x00\\x00\\x00\\x00\\x00\\x00\\x00\\x00\\x00\\x00\\x00\\x00\\x00\\x00\\x00\\x00\\x00\\x00\\x00\\x00\\x00\\x00\\x00\\x00\\x00\\x00\\x00\\x00\\x00\\x00\\x00'"
      ]
     },
     "execution_count": 63,
     "metadata": {},
     "output_type": "execute_result"
    }
   ],
   "source": [
    "ccd[0:512]"
   ]
  },
  {
   "cell_type": "code",
   "execution_count": 20,
   "id": "727055b2",
   "metadata": {
    "pycharm": {
     "name": "#%%\n"
    }
   },
   "outputs": [
    {
     "data": {
      "text/plain": [
       "2080"
      ]
     },
     "execution_count": 20,
     "metadata": {},
     "output_type": "execute_result"
    }
   ],
   "source": [
    "gbi(dat, 12)"
   ]
  },
  {
   "cell_type": "code",
   "execution_count": 44,
   "id": "df32ee2d",
   "metadata": {
    "pycharm": {
     "name": "#%%\n"
    }
   },
   "outputs": [
    {
     "data": {
      "text/plain": [
       "43361792"
      ]
     },
     "execution_count": 44,
     "metadata": {},
     "output_type": "execute_result"
    }
   ],
   "source": [
    "43362304 - 512"
   ]
  },
  {
   "cell_type": "code",
   "execution_count": 46,
   "id": "85fff556",
   "metadata": {
    "pycharm": {
     "name": "#%%\n"
    }
   },
   "outputs": [
    {
     "data": {
      "text/plain": [
       "10818.810379241517"
      ]
     },
     "execution_count": 46,
     "metadata": {},
     "output_type": "execute_result"
    }
   ],
   "source": [
    "43361792 / 4008"
   ]
  },
  {
   "cell_type": "code",
   "execution_count": 55,
   "id": "fc504d90",
   "metadata": {
    "pycharm": {
     "name": "#%%\n"
    }
   },
   "outputs": [
    {
     "data": {
      "text/plain": [
       "-525312.0"
      ]
     },
     "execution_count": 55,
     "metadata": {},
     "output_type": "execute_result"
    }
   ],
   "source": [
    "h = 5344\n",
    "w = 4008\n",
    "(h * w * 16) / 8 - len(ccd) - 512"
   ]
  },
  {
   "cell_type": "code",
   "execution_count": 58,
   "id": "ac975fea",
   "metadata": {
    "pycharm": {
     "name": "#%%\n"
    }
   },
   "outputs": [
    {
     "data": {
      "text/plain": [
       "65664.0"
      ]
     },
     "execution_count": 58,
     "metadata": {},
     "output_type": "execute_result"
    }
   ],
   "source": [
    "525312.0 / 8"
   ]
  },
  {
   "cell_type": "code",
   "execution_count": 91,
   "id": "54a9f666",
   "metadata": {
    "pycharm": {
     "name": "#%%\n"
    }
   },
   "outputs": [
    {
     "data": {
      "text/plain": [
       "5409.405189620758"
      ]
     },
     "execution_count": 91,
     "metadata": {},
     "output_type": "execute_result"
    }
   ],
   "source": [
    "21680896 / (4008)"
   ]
  },
  {
   "cell_type": "code",
   "execution_count": 64,
   "id": "e263f525",
   "metadata": {
    "pycharm": {
     "name": "#%%\n"
    }
   },
   "outputs": [],
   "source": [
    "dt = np.dtype(np.uint16)\n",
    "dt = dt.newbyteorder(\">\")\n",
    "dat = np.frombuffer(ccd[512:], dtype=dt)"
   ]
  },
  {
   "cell_type": "code",
   "execution_count": 87,
   "id": "7594cb77",
   "metadata": {
    "pycharm": {
     "name": "#%%\n"
    }
   },
   "outputs": [
    {
     "data": {
      "text/plain": [
       "262144.0"
      ]
     },
     "execution_count": 87,
     "metadata": {},
     "output_type": "execute_result"
    }
   ],
   "source": [
    "dat.size - 21418752.0"
   ]
  },
  {
   "cell_type": "code",
   "execution_count": 86,
   "id": "7fcc7bd9",
   "metadata": {
    "pycharm": {
     "name": "#%%\n"
    }
   },
   "outputs": [
    {
     "data": {
      "text/plain": [
       "21418752.0"
      ]
     },
     "execution_count": 86,
     "metadata": {},
     "output_type": "execute_result"
    }
   ],
   "source": [
    "(h * w * 16) / 16"
   ]
  },
  {
   "cell_type": "code",
   "execution_count": 88,
   "id": "3054b368",
   "metadata": {
    "pycharm": {
     "name": "#%%\n"
    }
   },
   "outputs": [
    {
     "data": {
      "text/plain": [
       "512.0"
      ]
     },
     "execution_count": 88,
     "metadata": {},
     "output_type": "execute_result"
    }
   ],
   "source": [
    "262144.0 / 512"
   ]
  },
  {
   "cell_type": "code",
   "execution_count": 92,
   "id": "8ecdc14b",
   "metadata": {
    "pycharm": {
     "name": "#%%\n"
    }
   },
   "outputs": [
    {
     "data": {
      "text/plain": [
       "43361792"
      ]
     },
     "execution_count": 92,
     "metadata": {},
     "output_type": "execute_result"
    }
   ],
   "source": [
    "len(ccd[512:])"
   ]
  },
  {
   "cell_type": "code",
   "execution_count": 93,
   "id": "fa01cf84",
   "metadata": {
    "pycharm": {
     "name": "#%%\n"
    }
   },
   "outputs": [
    {
     "data": {
      "text/plain": [
       "21680896.0"
      ]
     },
     "execution_count": 93,
     "metadata": {},
     "output_type": "execute_result"
    }
   ],
   "source": [
    "43361792 / 2"
   ]
  },
  {
   "cell_type": "code",
   "execution_count": 94,
   "id": "f28f3333",
   "metadata": {
    "pycharm": {
     "name": "#%%\n"
    }
   },
   "outputs": [],
   "source": [
    "from math import sqrt\n",
    "\n",
    "\n",
    "def get_factors(n):\n",
    "    \"\"\"Returns a sorted list of all unique factors of `n`.\"\"\"\n",
    "    factors = set()\n",
    "    for i in range(1, int(sqrt(n)) + 1):\n",
    "        if n % i == 0:\n",
    "            factors.update([i, n // i])\n",
    "    return sorted(factors)"
   ]
  },
  {
   "cell_type": "code",
   "execution_count": 116,
   "id": "850a514b",
   "metadata": {
    "pycharm": {
     "name": "#%%\n"
    }
   },
   "outputs": [
    {
     "data": {
      "text/plain": [
       "[1,\n",
       " 2,\n",
       " 4,\n",
       " 8,\n",
       " 16,\n",
       " 32,\n",
       " 64,\n",
       " 128,\n",
       " 256,\n",
       " 512,\n",
       " 1024.0,\n",
       " 2048.0,\n",
       " 4096.0,\n",
       " 8192.0,\n",
       " 16384.0,\n",
       " 32768.0,\n",
       " 65536.0,\n",
       " 131072.0,\n",
       " 262144.0]"
      ]
     },
     "execution_count": 116,
     "metadata": {},
     "output_type": "execute_result"
    }
   ],
   "source": [
    "get_factors(262144.0)"
   ]
  },
  {
   "cell_type": "code",
   "execution_count": 97,
   "id": "6afbb07b",
   "metadata": {
    "pycharm": {
     "name": "#%%\n"
    }
   },
   "outputs": [
    {
     "data": {
      "text/plain": [
       "21172.75"
      ]
     },
     "execution_count": 97,
     "metadata": {},
     "output_type": "execute_result"
    }
   ],
   "source": [
    "21680896.0 / 1024"
   ]
  },
  {
   "cell_type": "code",
   "execution_count": 98,
   "id": "1161cb21",
   "metadata": {
    "pycharm": {
     "name": "#%%\n"
    }
   },
   "outputs": [
    {
     "data": {
      "text/plain": [
       "43362304"
      ]
     },
     "execution_count": 98,
     "metadata": {},
     "output_type": "execute_result"
    }
   ],
   "source": [
    "len(ccd)"
   ]
  },
  {
   "cell_type": "code",
   "execution_count": 112,
   "id": "3eca002d",
   "metadata": {
    "pycharm": {
     "name": "#%%\n"
    }
   },
   "outputs": [
    {
     "data": {
      "text/plain": [
       "262144.0"
      ]
     },
     "execution_count": 112,
     "metadata": {},
     "output_type": "execute_result"
    }
   ],
   "source": [
    "len(ccd[512:]) / 2 - (4008 * 5344)"
   ]
  },
  {
   "cell_type": "code",
   "execution_count": 113,
   "id": "6960f967",
   "metadata": {
    "pycharm": {
     "name": "#%%\n"
    }
   },
   "outputs": [
    {
     "data": {
      "text/plain": [
       "64.0"
      ]
     },
     "execution_count": 113,
     "metadata": {},
     "output_type": "execute_result"
    }
   ],
   "source": [
    "262144.0 / 4096"
   ]
  },
  {
   "cell_type": "code",
   "execution_count": 114,
   "id": "5159b8b5",
   "metadata": {
    "pycharm": {
     "name": "#%%\n"
    }
   },
   "outputs": [
    {
     "data": {
      "text/plain": [
       "b'/+6B-\\xb96\\xba.\\'6j.q7\\t.\\xe26\\xbb.\\x8f6\\x8c.M6\\x93.\\x016\\xbb.\\x987\\x0c.\\x8f6\\xe2.r6\\xe4.M6C.\\x946\\xba.\\x976\\xb8.p7Y.\\xbd6C.\\xbd6\\xb8.\\xaa6k.s6\\xbc.N6k.\\x986\\xe4.)6\\x94.s71.\\xbe7\\x0c.N7\\r.s7\\x0c.\\x8f6\\xbb.t6l.N7\\r.t7\\x85.\\x986\\xe4.N7\\r.\\xbf6\\xbb.\\x986\\xb3.\\xe46\\xe5.\\x996\\xe4.*7\\x82.o7\\r.\\x997U.\\x997\\\\.\\xbd74.\\x987^.\\xbe7\\r.\\xbe7\\r.t75.\\xb675.o7].\\xe46\\xb8.\\x947\\x0e.o7].\\xbe6\\xe4.\\x997\\x0e.v7].\\x997^.\\x9b76.\\x9a6\\xe6.\\xc075.\\xb96\\xbd.\\xbf7\\x0e.\\xaf75.\\x997\\x86.\\xb67^.\\x9a7\\x87/%6\\xdd.\\x9a7\\xd8.u7^/\\n7_.\\x9a6\\x95.\\xe57^/\\t76/\\n7^.\\x906\\xe6.\\x9a7^.\\xdb7\\x0e//77.\\x9a7\\x0e.\\xe57\\x87.\\x9a76.\\xc077.\\xc07\\xaf.\\xe47\\x0e.\\xdf7\\x0e.\\xbf7^.u7_.\\xb676/\\n7^.\\xc17_.\\xc07\\xb0.\\xe67_.\\xe57\\x87//7\\x87.\\xb577.\\xe67\\x0e//7\\xb0.\\x9b7\\x88.\\x947\\xd9.\\xba7\\xb0/\\x0b7\\x0f.\\xc07\\xb0.\\xc18\\x00.\\xbf7\\x0e.u7\\xd9.\\xc07\\x87.\\xe57\\x0f.\\xc17\\x88/07\\x88.\\xe67\\x88/O7_.\\xc07\\x88.\\xe57\\xaf.\\xe57\\xb0.\\xc07\\x0f.\\xdf7\\x0f.\\x9a7\\xaa.\\xd57\\xb0.v7\\xa6.\\xc17_.\\xe67\\xb0.\\xe67_.\\x9b7\\x88/U7\\x88/07_/\\x047U/07\\x88.Q7\\xb1/{7\\x88/\\x0b7\\x88.\\xc07\\x88.\\xc07`/V77.\\xc177.\\x9b7_.w7_.\\xb97\\x88/07\\xb1.\\xe67\\x88.\\xc07\\x89.\\xe67\\x88.\\xc17\\x10.\\xdb7Y.\\xe677/\\x0b7\\xb1.v7\\xb0/078.\\xe678.\\xe77_.\\x9b7\\xa6.\\xe67\\x89.\\xc17\\x89.\\x9b6\\xe6.\\x9b7-.o7\\x10/\\n7\\x88.\\xe68\\x02.\\xe67\\xa1.v77.\\xe67\\xda/\\x0b78.\\x9c7_/\\x047\\x88.\\xbf7\\x82.\\x9b7\\x89/|7_/)7\\x89.\\xdb7\\xb1/\\x0c78.\\xe67\\xda.\\xe57`.\\xc27\\x89.\\xc177.v7\\x88/07\\x10.\\x9b7\\x89.\\x9b7\\x10/17`.\\xc17U.\\x9b7`.\\xbf7\\xd9.\\xc27\\x10/\\n7\\x0f.\\xc17\\xaa/07\\xb0.\\xc07`.Q7\\xb1/17\\x89.\\xc27\\x89.\\xbf7`/178/p7\\x10.\\x8077.\\x9b7\\x89.v7\\x10.\\x9c7\\x88.\\xb57\\xb1.\\xe77\\x89/\\x0c7\\x89/;7\\xda.\\xe778.\\xe77\\xa6.\\x9b7_.\\x9b7\\x88.Q7`.\\xe77`.\\xc078.R7\\x89/178.w7`.w7`/179.\\xe671.\\x9b7`.\\xc17J/\\x007\\xa6/07\\x88.\\x9c7\\xcf.\\xc17\\x10/17\\xb1.\\xc178.\\x9c7a.v8\\x02.\\x9b7\\xb1.\\x9b77/\\x0c7x.\\xe67\\x89.\\xe67`.\\xc27\\x82.\\xe57\\x82.w7\\x89.\\x9c7\\x10/\\x0c8\\x02.\\xe68\\x03//78.w78.\\xc07`.\\xe77U.\\x9c78.\\xc27\\xb1.\\xc27\\x89.\\xc17\\xda/\\x0c78.v7_.\\xe58\\x02.\\xe778.\\x9b7\\x10.\\x9c79.\\xe77\\x89.\\x9c7\\xb1.\\xc17a.-7\\x11/\\x0c6\\xe7.R7\\x10.\\x9b79.\\xc17`/\\x0c78.\\xbf7\\x10.\\x9c7\\x89.R7\\xb1.\\x9c7`.\\xc17_.\\xc178.Q7\\xb1.\\xc07\\xb2.w7_.\\xe67\\x89.\\x9c7\\xb2.\\xc17\\xda.\\x9c7`.\\x9c7\\xda.\\x9c79.\\x9c7\\xb1.\\xc28T.\\x9c8\\x03.\\xe57\\xb1.R8T.u7\\x88.\\xc17`.w7\\xda.\\x9c6\\xe7.\\x9c7\\x89.\\x9c7`.\\xc278.\\xc17\\x11.w7\\x10.\\xc07\\xb2.\\xc16\\xe8.\\xc17a.\\x9a7\\x10.\\xe77a.\\x9c7\\xb1.\\xe77`.w7`.\\xc17a.x7\\x89.\\x9c7\\x89.\\x9c79.\\x9c7`.\\xc27\\x10.\\xc16\\xe8.\\x9c7\\x11.\\x9c7\\x89.k7`.\\x9c7\\x8a/17`.\\xf57\\xdb.\\x9c7\\x05.\\xc179.\\xfa7\\x88.\\xc27\\x11/\\x0c7b.w7_.\\xc16\\xff.\\xc17a.\\xc17\\x89.\\xe57a.\\x9c7\\t.R6\\xc0.\\x9c7\\xb1.\\xdf7\\x8a.\\x9c7a.\\xe77a.\\xc17\\x82.w7\\x8a.u7\\x10/\\x0c7\\xb2.\\x0879.-7a/17\\x11/\\x0c7a.R7a.F78.F78.\\x947\\xa6.\\x9a7`.\\xc27a.-7\\t.\\xc17\\x8a.\\x9c79.-7_.\\xc17\\x8a.\\x9478.w7`/17U.\\xe76\\xbf.\\x9c7\\xb2.\\x9a7\\xb3.\\xc171/\\x006\\xe8.\\xc17\\xb0.\\xc079/\\x0c7\\x10.\\xba79.\\x9c6\\xe6.\\x9c7a.\\x9c79.\\xe76\\xe8.u7\\x8a.x6\\xe8.\\x9c7\\t.\\x9d7\\x8a/\\x0c7`.\\x906\\xe8.\\xe777.w7\\xb0/17\\x11.w6\\xe9.o7\\xb2.\\xc26\\xb5.\\xc279.\\x9d6\\xe8.\\xe77`.\\xc27\\x89.\\x9c7\\xb2/O7\\x10.u6\\xe8.w7a/\\r7\\x11.x79.u7\\xaa.u6\\xe9.\\x9c6\\xbf.\\x9c7\\x11.-7a.+6\\xe8.\\x9c7\\x8a.\\xb679/\\n7\\x11/17\\x11.\\xe87a.\\xd06\\xe9.w7\\x89.\\x9c7\\x11.\\x9c7a.-7\\x11/\\x0c79.x79.\\x9c7\\x8a.w7\\xdb.x7\\x11.x6\\xc0.\\x9c78.\\x9c79/\\x0c7a.\\xe77\\x11.\\x9a79.\\x9d7\\x11/X7a.\\xc279.\\x9d77.\\xe87\\x8a.w7\\x10.\\xe779.\\xc17\\x11.\\xc27\\x8a.\\xc17\\x11.\\x9d7Y/\\x0471.\\x9d79.\\x9c7a.S7U.\\xbf78.\\xe77\\x8a.\\x9c6\\xe9.\\xe87a.w7\\x8a.\\xc07\\xb2.\\xe57\\x05.\\x9d7\\x11.\\x9d79.\\x9c7\\xb2.\\xe77`.\\x9c79.w7\\x11.\\xc27\\xdb.\\xc17a.\\x9d6\\xc0.\\x9d6\\xc0/\\x0c79.\\xe87\\xaa/\\r6\\xf5.\\x9c7a.\\xc179.\\xc17\\x11/)6\\xc0.\\x9c6\\xe6.\\xc26\\x99.\\xc27a.\\xc27\\xb2.\\xc379.\\xc27\\x05.\\xe56\\xc0.x7a.\\xe77\\xb2.\\xc37\\x11.\\xc17\\x11.\\xc27\\xb2.\\x9d7\\x8a.\\xe879.\\xc27\\x8a.\\xe87b.\\x9c7_.\\x9a6\\xe8/\\x0c7a/\\r79.\\x9c7a..7_.\\xc27\\x11.\\xc17\\x8a.\\xc27\\x8a.x7\\x8a.x7\\x8a.\\xe57\\x11.\\xe77\\x12.x7\\x8a.\\x906\\xe8.x6\\xdc.\\x9a7\\x11.\\xf57\\x88.\\x9479.\\xc27\\xb3.S6\\xe8.\\x9c8*.\\x8a7\\x11.\\xe87-/\\x0c7\\x11/\\r79.\\xe579.x79.x6\\x98.S6\\xe8.\\xb67U.\\xc26\\x98.\\xc17\\x11//7a.\\xe87\\x11.\\x907:.\\xc27a.\\xc37\\x11/27a.S7\\x11/\\n7a/\\x0c7\\x11/16\\xe8.\\xe87\\x11.\\xb67~.S7:.\\xe879.\\x9d7\\x11.\\xe879.\\xc27\\x8b.\\x9d7\\x8a.\\xe77_.\\x9d7\\x8b/\\r79.\\xbf79/\\r6\\xe8.\\xe87b.\\xe57\\x8a.\\xc37\\x11.S6\\xea/\\n7a/W7\\x11.\\xe87b.\\xc36\\xc0.x7\\t.\\xe86\\xea.\\xc37b.\\xb97\\xb2.\\xe87\\x8b.x6\\xe7.\\xc36\\xe8.\\xe77\\x11.\\xc27b.\\xc379.\\xe76\\xbe.\\x9d7\\x8b.\\xc26\\xc1.S7\\xdb.\\xc37\\x11.\\xe87\\x12/\\r77.\\x9d7a.y7_/\\r79/27Y.x7:.\\xc36\\xea.\\x9d6\\xc0.\\x9d7\\x8a.\\x9d77.\\x9d7a.w79.\\xc27b/\\r7\\xdb.\\xc37\\xdb/27\\x8b/\\r8\\x04.\\t7\\xb2.x7\\x8a.T7b.\\x9d6\\xe8.\\xe87a/X7\\xb3.\\xc27\\x11/26\\xf5.\\xdb7\\xb3.x7a.\\xe87b.\\x9d7\\x8b.\\x9d7b.\\xc37a.\\xe87\\x11/\\n7\\x8b/27\\x82//7\\xdb.\\xc37:/\\r7b/X7:.\\x9d7\\xdb.\\xc27b/279.\\xe87\\x8a/X7b.\\xc37\\x99.\\xe87b.\\x9d7b/\\r7\\x8a.\\xdb7b.\\xe879/27b.\\xe87\\x8a.\\xc27\\xb2.\\xe87b/27\\x8a/\\r7\\xb3.\\x9d7:.\\x9d7b/27:/\\r7\\xdb.T7\\x8b.\\xe87\\xb2.\\xe86\\xe8/27\\x8b/\\r7a.\\xc37b.\\xe87\\x8b.\\xc37\\x8b.\\xe87;/27:.\\xdb7\\xb3/X7\\xb2/%6\\xc2/\\r7:.\\xe87\\xdb.\\xe86\\xb8.\\xe87\\xd3.\\xe87b/\\r7\\x8b.\\xc37b/\\r7\\xb0/%7\\x8a/\\r7\\xdc.\\x9d7\\xb3/X7\\xcf.\\x9d7:/z7\\x8b.\\xc37c/\\r7b/\\r7\\xdc/26\\xe9.\\xc37\\x8a/X7a/X7\\xdc/28\\x04.x7\\xdc.\\xe87\\xb3.\\xc27\\xb3.\\xe87\\x12/28-/\\r7\\xdc/\\r7\\x8a/\\r7\\xdb/27b.\\xe88\\x04.\\xe87\\xb3.\\xc26\\xea/X7b.\\xe87:/27\\xb3.\\xe87\\x0f.\\xe879/X7\\xb2/\\r7\\xb3/\\r7a.\\xc27\\x8b/27\\x8b.\\xe87\\xdc.\\xe87\\xb3/X8\\x04/28\\x04/28U.\\xc379/27\\x8b.\\xe87b/\\r7\\x88/27\\x8b.\\xc28-/\\r7b/\\r7\\xdc/X7:.x79.S7\\x12.\\x907b.\\x9d79.\\x9d7\\x12.e7:.S6\\xea.\\x9d7c..6\\xea.P7;.\\xbf7-.\\x9d7-.S7:.\\xf57:.x7:.x7:.\\x9d6\\xc1.S7:.\\x9d7\\x0f.\\xc27\\x12.\\xc27\\x11.\\x9d7:.\\xb57b.x7b-\\xe57b.x6\\xea.x7\\x8b.\\x9e7\\x0f.S7\\xb3.S7b.k6\\xdc.\\x9d7a.\\xc27\\x12.\\x907b.\\x9d6\\xc1..7-.\\x9d7\\x12.\\x9d7:.x7\\x12.+7\\x12.x6\\xc0.\\xc26\\xea.\\xe86\\xe9.\\x9d6\\x99.u6\\xc1.06\\xea.y7\\x8b.\\x9d7U.x6\\xc1.\\t6\\xea.\\xc36\\xc1.x7\\x12.\\xe87b.\\xba7\\x12.\\xc27:.S7:.\\xe57~.S77.S6\\xc1.T7:.\\x9d7a.x6\\xe1.\\x9d7\\x12.S7\\x8b/\\n7b..7\\x8b.x6\\xbe.x6\\xe6..7\\xb3.\\n7:.S7:.x6\\xdc.\\x9a7\\x05.x6\\xea.y7\\x12.S6\\xe9.y6\\xf5.x7\\x12./6\\xe9..6\\xea.x7\\x8a.S6\\xe9.\\xc27:.y7_.S7:.\\x9d6\\xe9.\\t7\\x12.\\x807\\x12.\\x9d7\\x12.x7\\x8b..7:.x7:.S7c.y6\\xc1.y6\\xc1./7:.\\x9d6\\xe9.\\x9d7:.\\xc37\\x12.T7\\x12.S7\\x12.x6\\xc1.\\xc37b.\\xe87U.x7\\x0f.x7c.\\xc36\\xe9.\\x9d6\\xe9.\\x9d7\\x12.\\x9d7\\x12.\\x9d6\\xe7.\\x9d7b.y6\\xea.S7:.P6\\xea.S6\\x99.x7\\x12.x6\\x91.y7:./6\\xc1.%6\\xe9.\\x9d6\\x99.\\x9d6\\xea.S7:.x7\\x12.\\x9d7\\x12.\\xc371.x7:..6\\xc1.y6I.x7b.%7b/\\r7:.\\xe87:.%7:.x7\\x12.\\x9d7:.\\xc27b.S7b.\\x9e6\\xc1.S7\\x11.\\x9d7:.\\x9d7\\xb3.\\x9d7\\x12.P7\\xa6..6\\xe1.y7\\x12.v7\\x12.\\x9d6\\xe9.y7b.x77.x7:..7b.x6\\xe9.\\x9d6\\xea.\\xb57\\x8b.\\x9e6\\xb8.x7\\x12.y7\\x12.y6\\xe9.\\x9d7\\x12.x6\\xe6.x7\\x82.\\xc27\\x05.S7\\x12.y7\\x12.y6\\xc1..6\\xa4.\\x9d7:.y7b.S7a.\\xc27:.\\xc37:.x7b.\\xc26\\xc1/\\r6\\xc1.\\x9d6\\xc1.\\xc37\\x12.y6\\xc1.S7\\x05.S79.o7b.S6\\x99.y6\\xe7.S7\\x12.T7\\x0f.p6\\xea.\\x9d7b.\\x9e7c.u7\\x12.\\x9d6\\xbe.S7\\x0f.\\xc27\\x8b.x7\\x12.x6\\x99.y6\\x99.T6\\xe9.\\x9d7\\x12./6\\xe9.S77.\\xc37:.P6\\xea.\\xe86\\xc1.x7\\x12.x6\\xea.x7\\x12./6n.S6\\xc1.y6\\xea/\\x0e7:.x6\\xc1.\\x9d6\\xbe.x6\\xea.\\x9a6\".x7:.\\x9d6\\x99.x6\\xe7.\\x9d7\\x12.S6\\x8c.S7b.S79.S6\\x99.J6\\xe9.\\xe86\\xea.x7b.S7\\x8b.u7\\x8b'"
      ]
     },
     "execution_count": 114,
     "metadata": {},
     "output_type": "execute_result"
    }
   ],
   "source": [
    "ccd[512:4096]"
   ]
  },
  {
   "cell_type": "code",
   "execution_count": 115,
   "id": "e36ec00f",
   "metadata": {
    "pycharm": {
     "name": "#%%\n"
    }
   },
   "outputs": [
    {
     "data": {
      "text/plain": [
       "43362304"
      ]
     },
     "execution_count": 115,
     "metadata": {},
     "output_type": "execute_result"
    }
   ],
   "source": [
    "len(ccd)"
   ]
  },
  {
   "cell_type": "code",
   "execution_count": null,
   "id": "5050c5b3",
   "metadata": {
    "pycharm": {
     "name": "#%%\n"
    }
   },
   "outputs": [],
   "source": []
  }
 ],
 "metadata": {
  "kernelspec": {
   "display_name": "PyCharm (PYemotionDNG)",
   "language": "python",
   "name": "pycharm-c4269755"
  },
  "language_info": {
   "codemirror_mode": {
    "name": "ipython",
    "version": 3
   },
   "file_extension": ".py",
   "mimetype": "text/x-python",
   "name": "python",
   "nbconvert_exporter": "python",
   "pygments_lexer": "ipython3",
   "version": "3.9.12"
  }
 },
 "nbformat": 4,
 "nbformat_minor": 5
}