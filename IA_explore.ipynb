{
 "cells": [
  {
   "cell_type": "code",
   "execution_count": 133,
   "id": "99029d81",
   "metadata": {},
   "outputs": [],
   "source": [
    "from importlib import reload\n",
    "\n",
    "from matplotlib.pyplot import imshow\n",
    "from PIL import Image\n",
    "from pathlib import Path\n",
    "import numpy as np\n",
    "import colour\n",
    "from colour_demosaicing import (\n",
    "    demosaicing_CFA_Bayer_Menon2007,\n",
    ")\n",
    "\n",
    "# Library of functions for working with Sinar raw files.\n",
    "import sinar_ia\n",
    "reload(sinar_ia)\n",
    "from sinar_ia import read_sinar, process_raw, norm, read_raw, read_pwad_lumps, get_wad, process_meta, gls, gli, gle\n",
    "\n"
   ]
  },
  {
   "cell_type": "code",
   "execution_count": 77,
   "id": "3cee96ed",
   "metadata": {},
   "outputs": [],
   "source": [
    "colour.plotting.colour_style()\n",
    "#TEST_FILES = Path('/Users/mgolub2/Pictures/32GB_CF2_9_7_2022/002000E8.EMO') #Path('emotion75_test_files')\n",
    "TEST_FILES = Path('emotion75_test_files')\n",
    "\n",
    "def sinar_ia_to_pil(path: Path, h=5344, w=4008):\n",
    "    sinar_ia = read_sinar(path)\n",
    "    nd_img = process_raw(sinar_ia, h=h, w=w)\n",
    "    out = demosaicing_CFA_Bayer_Menon2007(norm(nd_img), \"RGGB\")\n",
    "    return Image.fromarray((out * 65536).astype(\"uint16\"), mode=\"RGB\")"
   ]
  },
  {
   "cell_type": "code",
   "execution_count": 79,
   "id": "a81b3868",
   "metadata": {},
   "outputs": [
    {
     "name": "stdout",
     "output_type": "stream",
     "text": [
      "Reading 6C4875A9.IA...\n",
      "66573312\n"
     ]
    }
   ],
   "source": [
    "raws = {}\n",
    "for ia in TEST_FILES.glob(\"*.IA\"):\n",
    "    #ia = Path(TEST_FILES / '6C4875A9.IA')\n",
    "    print(f\"Reading {ia.name}...\")\n",
    "    raws[ia.name] = read_sinar(ia)\n",
    "    raw = read_raw(ia)\n",
    "    lumps = read_pwad_lumps(raw)\n",
    "    meta = get_wad(raw, *lumps[b'META'])\n",
    "    raw0 = get_wad(raw, *lumps[b'RAW0'])\n",
    "    #thumb = get_wad(raw, *lumps[b'THUMB'])\n",
    "    print(len(raw0))\n",
    "    break\n",
    "#imshow(Image.frombytes(\"I;16L\", (4008, 5344), raw0, \"raw\"), cmap='Greys')"
   ]
  },
  {
   "cell_type": "code",
   "execution_count": 145,
   "outputs": [
    {
     "name": "stdout",
     "output_type": "stream",
     "text": [
      "{b'META': (512, 480), b'LINEAR': (1024, 524288), b'BLEMISH': (525312, 1908), b'WHITE': (527360, 66573312)}\n",
      "{b'META': (512, 480), b'THUMB': (1024, 524288), b'BLACK0': (525312, 66573312), b'BLACK1': (67098624, 66573312)}\n",
      "SinarIA(shutter_count=0, camera='Dummy body', measured_shutter_us=0, req_shutter_us=0, f_stop=0.0, black_ref='', iso=50, serial='e75-07-1217', model='Emotion 75', height=6668, width=4992, white_balance_name=<WhiteBalance.Unknown: 6>, focal_length=0.0, white_ref='/002500E8.EMO/18EC1ABE.WR', filename=PosixPath('.'), black_path=None, white_path=None)\n",
      "6668\n",
      "4992\n",
      "0\n",
      "0\n",
      "0\n",
      "0\n",
      "4668\n",
      "0\n",
      "1520\n",
      "44\n",
      "190\n",
      "59\n",
      "4262\n",
      "72\n",
      "3252\n",
      "78\n",
      "1030\n",
      "106\n",
      "1926\n",
      "113\n",
      "3138\n",
      "123\n",
      "138\n",
      "124\n",
      "2172\n",
      "138\n",
      "1541\n",
      "164\n",
      "3762\n",
      "168\n",
      "2755\n",
      "174\n",
      "4194\n",
      "199\n",
      "3478\n",
      "223\n",
      "1664\n",
      "227\n",
      "2529\n",
      "236\n",
      "2575\n",
      "238\n",
      "3554\n",
      "247\n",
      "3033\n",
      "260\n",
      "3277\n",
      "260\n",
      "3320\n",
      "267\n",
      "539\n",
      "276\n",
      "650\n",
      "279\n",
      "1646\n",
      "292\n",
      "2072\n",
      "295\n",
      "2080\n",
      "312\n",
      "3629\n",
      "334\n",
      "4216\n",
      "347\n",
      "208\n",
      "353\n",
      "2912\n",
      "358\n",
      "2698\n",
      "395\n",
      "3722\n",
      "399\n",
      "4814\n",
      "400\n",
      "3222\n",
      "448\n",
      "3915\n",
      "460\n",
      "837\n",
      "472\n",
      "378\n",
      "479\n",
      "2527\n",
      "510\n",
      "1684\n",
      "511\n",
      "2230\n",
      "514\n",
      "3620\n",
      "560\n",
      "4276\n",
      "567\n",
      "4043\n",
      "588\n",
      "1549\n",
      "590\n",
      "2709\n",
      "596\n",
      "2706\n",
      "601\n",
      "3875\n",
      "602\n",
      "1103\n",
      "614\n",
      "4846\n",
      "618\n",
      "3048\n",
      "641\n",
      "934\n",
      "649\n",
      "216\n",
      "657\n",
      "13\n",
      "662\n",
      "3572\n",
      "663\n",
      "1274\n",
      "689\n",
      "4319\n",
      "708\n",
      "3704\n",
      "719\n",
      "546\n",
      "729\n",
      "2323\n",
      "730\n",
      "3061\n",
      "778\n",
      "3498\n",
      "821\n",
      "1614\n",
      "829\n",
      "2372\n",
      "849\n",
      "913\n",
      "860\n",
      "354\n",
      "880\n",
      "3074\n",
      "894\n",
      "2193\n",
      "898\n",
      "4026\n",
      "976\n",
      "2028\n",
      "980\n",
      "3849\n",
      "992\n",
      "2481\n",
      "1058\n",
      "2870\n",
      "1064\n",
      "3412\n",
      "1096\n",
      "1957\n",
      "1121\n",
      "182\n",
      "1126\n",
      "3358\n",
      "1133\n",
      "1202\n",
      "1157\n",
      "1346\n",
      "1157\n",
      "1419\n",
      "1185\n",
      "2905\n",
      "1196\n",
      "3893\n",
      "1215\n",
      "1483\n",
      "1260\n",
      "2914\n",
      "1269\n",
      "617\n",
      "1300\n",
      "1277\n",
      "1300\n",
      "1352\n",
      "1318\n",
      "103\n",
      "1328\n",
      "621\n",
      "1374\n",
      "3099\n",
      "1374\n",
      "710\n",
      "1383\n",
      "1708\n",
      "1395\n",
      "484\n",
      "1409\n",
      "2168\n",
      "1426\n",
      "2332\n",
      "1446\n",
      "3568\n",
      "1464\n",
      "1695\n",
      "1478\n",
      "1731\n",
      "1480\n",
      "1479\n",
      "1488\n",
      "999\n",
      "1512\n",
      "482\n",
      "1518\n",
      "2160\n",
      "1530\n",
      "1984\n",
      "1561\n",
      "216\n",
      "1563\n",
      "4233\n",
      "1568\n",
      "4886\n",
      "1573\n",
      "996\n",
      "1589\n",
      "4030\n",
      "1622\n",
      "1294\n",
      "1650\n",
      "3182\n",
      "1671\n",
      "3276\n",
      "1690\n",
      "872\n",
      "1730\n",
      "2236\n",
      "1732\n",
      "3795\n",
      "1740\n",
      "2312\n",
      "1744\n",
      "1472\n",
      "1768\n",
      "1882\n",
      "1787\n",
      "3358\n",
      "1796\n",
      "4532\n",
      "1796\n",
      "1188\n",
      "1823\n",
      "1725\n",
      "1844\n",
      "1962\n",
      "1845\n",
      "3392\n",
      "1858\n",
      "1353\n",
      "1910\n",
      "3740\n",
      "1938\n",
      "4836\n",
      "1943\n",
      "3994\n",
      "1966\n",
      "4736\n",
      "1968\n",
      "465\n",
      "2005\n",
      "1312\n",
      "2058\n",
      "4542\n",
      "2105\n",
      "1414\n",
      "2107\n",
      "1047\n",
      "2176\n",
      "3312\n",
      "2264\n",
      "2401\n",
      "2305\n",
      "1335\n",
      "2346\n",
      "3657\n",
      "2356\n",
      "2662\n",
      "2362\n",
      "2538\n",
      "2444\n",
      "20\n",
      "2445\n",
      "3441\n",
      "2448\n",
      "2387\n",
      "2452\n",
      "608\n",
      "2455\n",
      "3485\n",
      "2476\n",
      "813\n",
      "2485\n",
      "638\n",
      "2526\n",
      "4607\n",
      "2550\n",
      "2681\n",
      "2552\n",
      "2218\n",
      "2555\n",
      "4339\n",
      "2558\n",
      "2811\n",
      "2574\n",
      "3352\n",
      "2576\n",
      "3923\n",
      "2604\n",
      "1299\n",
      "2634\n",
      "2026\n",
      "2694\n",
      "461\n",
      "2776\n",
      "3310\n",
      "2776\n",
      "2384\n",
      "2793\n",
      "1127\n",
      "2796\n",
      "1638\n",
      "2799\n",
      "2078\n",
      "2821\n",
      "3030\n",
      "2822\n",
      "2082\n",
      "2826\n",
      "58\n",
      "2874\n",
      "26\n",
      "2911\n",
      "2791\n",
      "2936\n",
      "1812\n",
      "2971\n",
      "4642\n",
      "2974\n",
      "1913\n",
      "2984\n",
      "4592\n",
      "2995\n",
      "981\n",
      "2996\n",
      "3697\n",
      "3004\n",
      "2199\n",
      "3007\n",
      "1757\n",
      "3030\n",
      "1105\n",
      "3032\n",
      "3498\n",
      "3040\n",
      "1825\n",
      "3044\n",
      "2821\n",
      "3060\n",
      "3930\n",
      "3061\n",
      "4392\n",
      "3071\n",
      "4514\n",
      "3077\n",
      "4136\n",
      "3095\n",
      "400\n",
      "3126\n",
      "3780\n",
      "3149\n",
      "1498\n",
      "3155\n",
      "1780\n",
      "3177\n",
      "2975\n",
      "3178\n",
      "3804\n",
      "3179\n",
      "3398\n",
      "3188\n",
      "2034\n",
      "3193\n",
      "4114\n",
      "3199\n",
      "2136\n",
      "3203\n",
      "3129\n",
      "3206\n",
      "1403\n",
      "3236\n",
      "4010\n",
      "3269\n",
      "1810\n",
      "3274\n",
      "2325\n",
      "3284\n",
      "4954\n",
      "3287\n",
      "4554\n",
      "3288\n",
      "3275\n",
      "3292\n",
      "4588\n",
      "3293\n",
      "3441\n",
      "3337\n",
      "185\n",
      "3340\n",
      "4346\n",
      "3357\n",
      "2100\n",
      "3361\n",
      "4951\n",
      "3374\n",
      "818\n",
      "3397\n",
      "3302\n",
      "3397\n",
      "4482\n",
      "3402\n",
      "3498\n",
      "3424\n",
      "3586\n",
      "3448\n",
      "277\n",
      "3475\n",
      "2207\n",
      "3484\n",
      "235\n",
      "3512\n",
      "659\n",
      "3531\n",
      "520\n",
      "3579\n",
      "3972\n",
      "3589\n",
      "4531\n",
      "3616\n",
      "3067\n",
      "3643\n",
      "3135\n",
      "3650\n",
      "1151\n",
      "3656\n",
      "212\n",
      "3671\n",
      "4210\n",
      "3678\n",
      "2912\n",
      "3680\n",
      "2799\n",
      "3688\n",
      "183\n",
      "3690\n",
      "2660\n",
      "3710\n",
      "2550\n",
      "3725\n",
      "4387\n",
      "3736\n",
      "1619\n",
      "3744\n",
      "2442\n",
      "3747\n",
      "2191\n",
      "3763\n",
      "3892\n",
      "3764\n",
      "155\n",
      "3814\n",
      "3646\n",
      "3819\n",
      "1284\n",
      "3850\n",
      "2068\n",
      "3875\n",
      "4673\n",
      "3878\n",
      "3746\n",
      "3921\n",
      "915\n",
      "3924\n",
      "1996\n",
      "3937\n",
      "4144\n",
      "3938\n",
      "4517\n",
      "3946\n",
      "2621\n",
      "3948\n",
      "1468\n",
      "3973\n",
      "559\n",
      "3977\n",
      "26\n",
      "4003\n",
      "2477\n",
      "4024\n",
      "4376\n",
      "4036\n",
      "894\n",
      "4107\n",
      "3211\n",
      "4110\n",
      "1103\n",
      "4150\n",
      "2342\n",
      "4153\n",
      "3430\n",
      "4159\n",
      "4230\n",
      "4162\n",
      "331\n",
      "4194\n",
      "4502\n",
      "4218\n",
      "1691\n",
      "4250\n",
      "2037\n",
      "4258\n",
      "104\n",
      "4272\n",
      "4290\n",
      "4273\n",
      "230\n",
      "4282\n",
      "1641\n",
      "4282\n",
      "4100\n",
      "4289\n",
      "2424\n",
      "4317\n",
      "4687\n",
      "4324\n",
      "463\n",
      "4364\n",
      "2210\n",
      "4389\n",
      "3163\n",
      "4392\n",
      "154\n",
      "4409\n",
      "2896\n",
      "4426\n",
      "3035\n",
      "4438\n",
      "2318\n",
      "4446\n",
      "2003\n",
      "4486\n",
      "2295\n",
      "4498\n",
      "4368\n",
      "4515\n",
      "1149\n",
      "4526\n",
      "4176\n",
      "4531\n",
      "215\n",
      "4534\n",
      "455\n",
      "4538\n",
      "1278\n",
      "4548\n",
      "4662\n",
      "4563\n",
      "59\n",
      "4594\n",
      "2455\n",
      "4611\n",
      "4152\n",
      "4618\n",
      "1905\n",
      "4702\n",
      "1838\n",
      "4705\n",
      "51\n",
      "4734\n",
      "1310\n",
      "4739\n",
      "4418\n",
      "4746\n",
      "476\n",
      "4769\n",
      "1655\n",
      "4798\n",
      "1213\n",
      "4806\n",
      "3840\n",
      "4815\n",
      "4590\n",
      "4825\n",
      "3375\n",
      "4830\n",
      "765\n",
      "4838\n",
      "4700\n",
      "4849\n",
      "4432\n",
      "4879\n",
      "824\n",
      "4881\n",
      "1033\n",
      "4882\n",
      "2608\n",
      "4883\n",
      "3467\n",
      "4884\n",
      "2793\n",
      "4908\n",
      "1697\n",
      "4942\n",
      "2393\n",
      "4948\n",
      "1084\n",
      "4970\n",
      "2262\n",
      "4991\n",
      "2177\n",
      "5004\n",
      "864\n",
      "5029\n",
      "2173\n",
      "5066\n",
      "1032\n",
      "5068\n",
      "792\n",
      "5091\n",
      "4102\n",
      "5108\n",
      "2426\n",
      "5133\n",
      "2218\n",
      "5146\n",
      "4009\n",
      "5174\n",
      "4517\n",
      "5180\n",
      "52\n",
      "5211\n",
      "3521\n",
      "5227\n",
      "1728\n",
      "5260\n",
      "471\n",
      "5268\n",
      "64\n",
      "5285\n",
      "1919\n",
      "5338\n",
      "1809\n",
      "5346\n",
      "34\n",
      "5369\n",
      "3800\n",
      "5378\n",
      "3966\n",
      "5378\n",
      "3757\n",
      "5402\n",
      "3035\n",
      "5454\n",
      "872\n",
      "5471\n",
      "949\n",
      "5498\n",
      "296\n",
      "5513\n",
      "3148\n",
      "5541\n",
      "1349\n",
      "5548\n",
      "1648\n",
      "5550\n",
      "4980\n",
      "5561\n",
      "3193\n",
      "5562\n",
      "1498\n",
      "5580\n",
      "1466\n",
      "5639\n",
      "4018\n",
      "5644\n",
      "1906\n",
      "5649\n",
      "3546\n",
      "5649\n",
      "700\n",
      "5680\n",
      "1516\n",
      "5683\n",
      "4381\n",
      "5688\n",
      "1022\n",
      "5689\n",
      "4135\n",
      "5722\n",
      "231\n",
      "5732\n",
      "2988\n",
      "5760\n",
      "1412\n",
      "5766\n",
      "2640\n",
      "5773\n",
      "3363\n",
      "5774\n",
      "462\n",
      "5778\n",
      "3021\n",
      "5798\n",
      "4008\n",
      "5806\n",
      "74\n",
      "5815\n",
      "3553\n",
      "5820\n",
      "154\n",
      "5834\n",
      "4938\n",
      "5861\n",
      "4747\n",
      "5862\n",
      "1693\n",
      "5866\n",
      "1271\n",
      "5874\n",
      "1723\n",
      "5880\n",
      "1158\n",
      "5921\n",
      "2348\n",
      "5943\n",
      "1980\n",
      "5961\n",
      "3732\n",
      "5992\n",
      "4453\n",
      "5992\n",
      "1337\n",
      "5994\n",
      "748\n",
      "5995\n",
      "524\n",
      "6018\n",
      "1223\n",
      "6028\n",
      "281\n",
      "6038\n",
      "4017\n",
      "6062\n",
      "2160\n",
      "6066\n",
      "1123\n",
      "6088\n",
      "4626\n",
      "6095\n",
      "2603\n",
      "6100\n",
      "3710\n",
      "6119\n",
      "3480\n",
      "6123\n",
      "4112\n",
      "6177\n",
      "116\n",
      "6191\n",
      "1798\n",
      "6207\n",
      "4277\n",
      "6210\n",
      "262\n",
      "6269\n",
      "4030\n",
      "6275\n",
      "4150\n",
      "6278\n",
      "4742\n",
      "6282\n",
      "2151\n",
      "6286\n",
      "890\n",
      "6291\n",
      "684\n",
      "6296\n",
      "4736\n",
      "6298\n",
      "2451\n",
      "6302\n",
      "50\n",
      "6336\n",
      "2628\n",
      "6343\n",
      "2055\n",
      "6354\n",
      "1248\n",
      "6359\n",
      "4526\n",
      "6381\n",
      "4968\n",
      "6383\n",
      "3958\n",
      "6388\n",
      "69\n",
      "6405\n",
      "3336\n",
      "6418\n",
      "3993\n",
      "6426\n",
      "376\n",
      "6434\n",
      "727\n",
      "6442\n",
      "1564\n",
      "6470\n",
      "2347\n",
      "6474\n",
      "4453\n",
      "6488\n",
      "3649\n",
      "6498\n",
      "4916\n",
      "6533\n",
      "2238\n",
      "6562\n",
      "4206\n",
      "6570\n",
      "3815\n",
      "6574\n",
      "3031\n",
      "6604\n",
      "3369\n",
      "6628\n",
      "4106\n",
      "6641\n",
      "646\n",
      "6663\n",
      "3446\n",
      "4076\n",
      "4078\n",
      "112\n",
      "3629\n",
      "3630\n",
      "211\n",
      "1464\n",
      "1465\n",
      "294\n",
      "5877\n",
      "5878\n",
      "368\n",
      "23\n",
      "24\n",
      "403\n",
      "1824\n",
      "1825\n",
      "408\n",
      "273\n",
      "275\n",
      "432\n",
      "6169\n",
      "6170\n",
      "517\n",
      "4242\n",
      "4243\n",
      "3675\n",
      "4007\n",
      "4008\n",
      "4191\n",
      "430\n",
      "431\n",
      "4974\n",
      "6053\n",
      "6054\n",
      "4196\n",
      "798\n",
      "3\n",
      "2\n",
      "30\n",
      "4282\n",
      "1088\n",
      "3\n",
      "3\n",
      "170\n",
      "3688\n",
      "2260\n",
      "3\n",
      "3\n",
      "170\n",
      "245\n",
      "2337\n",
      "3\n",
      "2\n",
      "30\n",
      "4171\n",
      "3133\n",
      "3\n",
      "2\n",
      "30\n",
      "3852\n",
      "3323\n",
      "3\n",
      "2\n",
      "21\n",
      "2756\n",
      "3948\n",
      "3\n",
      "2\n",
      "30\n",
      "2795\n",
      "4153\n",
      "3\n",
      "2\n",
      "30\n",
      "139\n",
      "5132\n",
      "4\n",
      "5\n",
      "42276\n",
      "4\n",
      "3194\n",
      "5160\n",
      "3\n",
      "2\n",
      "30\n",
      "1071\n",
      "5203\n",
      "3\n",
      "2\n",
      "30\n",
      "3901\n",
      "6379\n",
      "3\n",
      "2\n",
      "30\n",
      "0\n"
     ]
    }
   ],
   "source": [
    "white = read_raw(raws['6C4875A9.IA'].white_path)\n",
    "black = read_raw(raws['6C4875A9.IA'].black_path)\n",
    "wlumps = read_pwad_lumps(white)\n",
    "blumps = read_pwad_lumps(black)\n",
    "print(wlumps)\n",
    "print(blumps)\n",
    "w_meta = get_wad(white, *wlumps[b'META'])\n",
    "print(process_meta(w_meta))\n",
    "\n",
    "linear = get_wad(white, *wlumps[b'LINEAR'])\n",
    "blemish = get_wad(white, *wlumps[b'BLEMISH'])[28:]\n",
    "white = get_wad(white, *wlumps[b'WHITE'])\n",
    "for i in range(0, len(blemish), 2):\n",
    "    print(int.from_bytes(blemish[i:i+2], byteorder='little'))"
   ],
   "metadata": {
    "collapsed": false
   }
  },
  {
   "cell_type": "code",
   "execution_count": 146,
   "outputs": [
    {
     "data": {
      "text/plain": "<matplotlib.image.AxesImage at 0x3e542fee0>"
     },
     "execution_count": 146,
     "metadata": {},
     "output_type": "execute_result"
    },
    {
     "data": {
      "text/plain": "<Figure size 1280x720 with 1 Axes>",
      "image/png": "[encoded data removed]"
     },
     "metadata": {},
     "output_type": "display_data"
    }
   ],
   "source": [
    "imshow(Image.frombytes(\"I;16L\", (4992, 6668), white, \"raw\"), cmap='Greys')"
   ],
   "metadata": {
    "collapsed": false
   }
  },
  {
   "cell_type": "code",
   "execution_count": 152,
   "id": "b2f8d630",
   "metadata": {},
   "outputs": [],
   "source": [
    "update_path = Path('/Users/mgolub2/Downloads/SBeMotionUpdaterV511/SBeMotionUpdaterV511.app/Contents/Resources/emotion-5.11.upd')\n",
    "update = read_raw(update_path)\n",
    "update_lumps = read_pwad_lumps(update)\n",
    "up_data = dict()\n",
    "for k, v in update_lumps.items():\n",
    "    up_data[k] = get_wad(update, *v)"
   ]
  },
  {
   "cell_type": "code",
   "execution_count": 156,
   "outputs": [
    {
     "name": "stdout",
     "output_type": "stream",
     "text": [
      "b'EOTR' b'\\x18\\xf0\\x9f\\xe5\\x18\\xf0\\x9f\\xe5\\x18\\xf0\\x9f\\xe5\\x18\\xf0\\x9f\\xe5\\x18\\xf0\\x9f\\xe5\\x00\\x00\\x00\\x00\\x18\\xf0\\x9f\\xe5\\x18\\xf0\\x9f\\xe5@\\x00\\x02\\x00x\\x01\\x02\\x00\\x9c\\x01\\x02\\x00\\xc8\\x01\\x02\\x00\\xe4\\x01\\x02\\x00\\x00\\x00\\x00\\x00\\x1c\\x03\\x02\\x00\\xe4\\x02\\x02\\x00\\x00p\\x0f\\xe1\\x1fp\\x07\\xe2\\x13\\x00W\\xe3\\x08\\x00\\x00\\n\\x00\\x00\\xa0\\xe1\\x00\\x00\\xa0\\xe3\\x04\\x14\\x9f\\xe5\\x04 \\x91\\xe5\\x04 \\x80\\xe5$ \\x91\\xe5$ \\x80\\xe5\\x08 \\x91\\xe5\\x08 \\x80\\xe5\\x00\\x00\\xa0\\xe1\\xc4\\x03\\x9f\\xe5\\x00\\x10\\x90\\xe5'\n",
      "b'EOTR33' b'\\x18\\xf0\\x9f\\xe5\\x18\\xf0\\x9f\\xe5\\x18\\xf0\\x9f\\xe5\\x18\\xf0\\x9f\\xe5\\x18\\xf0\\x9f\\xe5\\x00\\x00\\x00\\x00\\x18\\xf0\\x9f\\xe5\\x18\\xf0\\x9f\\xe5@\\x00\\x02\\x00x\\x01\\x02\\x00\\x9c\\x01\\x02\\x00\\xc8\\x01\\x02\\x00\\xe4\\x01\\x02\\x00\\x00\\x00\\x00\\x00\\x1c\\x03\\x02\\x00\\xe4\\x02\\x02\\x00\\x00p\\x0f\\xe1\\x1fp\\x07\\xe2\\x13\\x00W\\xe3\\x08\\x00\\x00\\n\\x00\\x00\\xa0\\xe1\\x00\\x00\\xa0\\xe3\\x04\\x14\\x9f\\xe5\\x04 \\x91\\xe5\\x04 \\x80\\xe5$ \\x91\\xe5$ \\x80\\xe5\\x08 \\x91\\xe5\\x08 \\x80\\xe5\\x00\\x00\\xa0\\xe1\\xc4\\x03\\x9f\\xe5\\x00\\x10\\x90\\xe5'\n",
      "b'FPGA2' b'\\x1f\\x8b\\x08\\x08\\xac*\\xb2D\\x00\\x0bOn_The_Road_2006-07-10_12-23-40.xsvf\\x00\\xec][l\\x1d\\xc7y\\xfeg\\xcf\\xd0\\x9ac\\xd3\\xe1PR\\x03\\xda\\r\\xd0!C\\xbbj\\xd1 \\xac\\x15\\xf4\\x02\\x14\\xf0Pf\\x01\\x07\\xe8\\x03\\rD\\xb0\\x03\\x14 \\xdd\\x8b\\xfa\\xd6\\x04AP=j(\\x13-c\\x04\\xedq\\xe2\\x1a\\xf2\\x1bk\\xa4\\xa8*\\xa0\\xb0\\xf2\\xd2\\x16\\xc8\\x83O\\x12\\x03u\\x01'\n",
      "b'FPGA3' b'\\x1f\\x8b\\x08\\x08\\xae.\\xb2D\\x00\\x0bOn_The_Road_2006-07-10_12-40-46.xsvf\\x00\\xec]\\xdd\\x8f\\\\GV?U]\\x9eT[-R3\\x19\\xa3v\\x94\\x87\\xeaa\\x924\\x91\\x90\\xc61DA \\xb9f\\xd2Q&R\\x1e&\\xd2Z\\xbb<y\\xb2d\\xa3}@\\x84\\x07\\x10\\x8f\\xae\\xee\\x0cK\\x07El\\x9b\\xb5\"\\xe7m\\x80\\x95\\x08V\\xd0f_V \\x1e\\xb6\\x1dgQV'\n",
      "b'FPGA4' b'\\x1f\\x8b\\x08\\x08\\x1d&\\xe9F\\x00\\x0bemotion54_2007-09-13_13-59-25.xsvf\\x00\\xec]]\\x88d\\xc7u>U];\\xaa^\\x1a\\xb6f46\\xbdF\\x0f5\\xe3\\xb126\\x0e\\xb4\\xb5!\\x91I`kFc{\\x1e\\xc7 \\x91\\x04\\x02Z\\xe3\\xc4\\xe4!\\xe0<\\x04\\xf4\\xa8\\x9a\\xd9\\x89\\xd2\\x0b\\xc6\\xf4\\xdaF\\xac\\xde\\xc6\\x86\\x10!\\xf2\\xb3\\xf1\\x83!\\xf8A\\xbdZcdXH\\x08\\x18'\n",
      "b'FPGA5' b'\\x1f\\x8b\\x08\\x08\\x95\"\\xe9F\\x00\\x0bemotion54_clk100_2007-09-13_13-44-21.xsvf\\x00\\xec]]\\x88%\\xc7u>\\xd5\\xb7g\\xd4\\xb3\\xdc\\xa0\\x9a\\xd1H\\xdcI\\x14\\xa8\\x19\\x8d\\xcc\\x18D\\xb8+\\x85h\\xdf\\xb6f4N\\xd6\\x10\\xc2\\xec\\xc3b\\x1b\\x02\\x1a+\\x8a\\xf0S\\x10$\\xe0\\xa7\\xb0ug7\\xce\\xac\\x11\\xc9\\xb5-\\xcc\\xeeS6~\\x89\\x10\\tv\\xf0\\x83\\ry'\n",
      "b'FPGA10' b\"\\x1f\\x8b\\x08\\x08\\x11\\xf29F\\x00\\x0bOn_The_Road_33_2007-05-03_16-30-41.xsvf\\x00\\xec]]l\\\\\\xc7u>3;\\xa2\\xee*\\xebjH\\xd3\\x00e\\x08\\xe8\\x90\\xde\\xb8\\xec\\x0f\\x02\\xd6\\n\\x8a\\x16(\\xe0\\xa1L'\\xf4\\x1b\\x85@p\\xfd\\xe4\\xad\\xdb*yk\\x1f\\n\\xe8QC\\x9aH\\xe9\\xc2(\\x88\\xa40\\xec7>\\x04\\xa8!\\xb4\\xa8\\xdb>\\xea\\xc1k\\xd7H\\x15\\xc0\"\n",
      "b'FPGA11' b'\\x1f\\x8b\\x08\\x08\\xaa\\x0f\\xd5F\\x00\\x0bemotion75_2007-08-29_08-18-18.xsvf\\x00\\xec]]\\x88d\\xc7u>U];\\xaaV\\xdal\\xcdhlz\\x83\\x025\\xe3\\xd6j\\x1cD\\x18Y\\xc2\\xda7W\\x8fFd\\x04&\\x8c\\x1e\\x04\\xca\\xd3\\xb6\\xa3\\xcdF\\x01\\x938\\x10\\xb2Oa\\xab\\xc7\\x832\\x02\\x91\\xf4\\xda\\x8b\\x90\\xde&\"8\\xca\\x92 \\xe7\\xcd\\xa0\\x87\\xf4Z\"Y\\xc3B\\xfc\\x96'\n",
      "b'PLD22' b'\\x07\\x00\\x13\\x00\\x14\\x00\\x12\\x00\\x12\\x01\\x02\\x08\\x01\\x08\\x00\\x00\\x00 \\x01\\x0f\\xff\\x8f\\xff\\x04\\x00\\x00\\x00\\x00\\t\\x00\\x00\\x00\\x00\\xf6\\xe5\\xf0\\x93\\x02\\x08\\xff\\x02\\x08\\xff\\x02\\x08\\xe8\\x13\\x01\\x02\\x08\\xed\\x13\\x00\\x12\\x0e\\x12\\x0f\\x12\\x02\\x12\\x03\\x12\\x05\\x12\\x06\\x17\\x06\\x06\\x00\\x00\\x00\\x14\\x12\\x07\\x12\\x08\\x12\\x01\\x17\\x01\\x01\\x00\\x01\\x86\\xa0\\x12\\x02\\x12\\x03\\x12\\x05\\x12\\x06\\x17\\x06\\x06\\x00\\x00\\x13\\x88\\x13\\x01\\x02\\x08\\xf0\\x12\\x0e\\x12\\x0f\\x12\\x01\\x17\\x01\\x01\\x00\\x00\\x00\\x14\\x13\\x01\\x02\\x08\\xf0\\x12\\x0e\\x12\\x0f\\x12'\n",
      "b'PLD33' b'\\x07\\x00\\x13\\x00\\x14\\x00\\x12\\x00\\x12\\x01\\x02\\x08\\x01\\x08\\x00\\x00\\x00 \\x01\\x0f\\xff\\x8f\\xff\\x04\\x00\\x00\\x00\\x00\\t\\x00\\x00\\x00\\x00\\xf6\\xe5\\xf0\\x93\\x02\\x08\\xff\\x02\\x08\\xff\\x02\\x08\\xe8\\x13\\x01\\x02\\x08\\xed\\x13\\x00\\x12\\x0e\\x12\\x0f\\x12\\x02\\x12\\x03\\x12\\x05\\x12\\x06\\x17\\x06\\x06\\x00\\x00\\x00\\x14\\x12\\x07\\x12\\x08\\x12\\x01\\x17\\x01\\x01\\x00\\x01\\x86\\xa0\\x12\\x02\\x12\\x03\\x12\\x05\\x12\\x06\\x17\\x06\\x06\\x00\\x00\\x13\\x88\\x13\\x01\\x02\\x08\\xf0\\x12\\x0e\\x12\\x0f\\x12\\x01\\x17\\x01\\x01\\x00\\x00\\x00\\x14\\x13\\x01\\x02\\x08\\xf0\\x12\\x0e\\x12\\x0f\\x12'\n",
      "b'LOGO' b'\\x02\\x00\\x00\\x00\\x00\\x00\\x02\\x00\\x00\\x00\\x00\\x00\\x02\\x00\\x00\\x00\\x00\\x00\\x02\\x00\\x00\\x00\\x00\\x00\\x02\\x00\\x00\\x00\\x00\\x00\\x02\\x00\\x00\\x00\\x00\\x00\\x02\\x00\\x00\\x00\\x00\\x00\\x02\\x00\\x00\\x00\\x00\\x00\\x02\\x00\\x00\\x00\\x00\\x00\\x02\\x00\\x00\\x00\\x00\\x00\\x02\\x00\\x00\\x00\\x00\\x00\\x02\\x00\\x00\\x00\\x00\\x00\\x02\\x00\\x00\\x00\\x00\\x00\\x02\\x00\\x00\\x00\\x00\\x00\\x02\\x00\\x00\\x00\\x00\\x00\\x02\\x00\\x00\\x00\\x00\\x00\\x02\\x00\\x00\\x00\\x00\\x00\\x02\\x00\\x00\\x00\\x00\\x00\\x02\\x00\\x00\\x00\\x00\\x00\\x02\\x00\\x00\\x00\\x00\\x00\\x02\\x00\\x00\\x00\\x00\\x00\\x02\\x00'\n",
      "b'LANG' b'\\x01\\x00\\x00\\x00\\xecZ\\x01\\x00German\\x00\\x00\\x00\\x00\\x00\\x00\\x00\\x00\\x00\\x00\\x00\\x00\\x00\\x00\\x00\\x00\\x00\\x00\\x00\\x00\\x00\\x00\\x00\\x00\\x00\\x00\\x00\\x00\\x00\\x00\\x00\\x00\\x00\\x00\\x00\\x00\\x00\\x00\\x00\\x00\\x00\\x00\\x00\\x00\\x00\\x00\\xc6\\x00\\x00\\x00\\x88\\x02\\x00\\x00\\xb8\\x08\\x00\\x00French\\x00\\x00\\x00\\x00\\x00\\x00\\x00\\x00\\x00\\x00\\x00\\x00\\x00\\x00\\x00\\x00\\x00\\x00\\x00\\x00\\x00\\x00\\x00\\x00\\x00\\x00\\x00\\x00\\x00\\x00\\x00\\x00\\x00\\x00\\x00\\x00\\x00\\x00\\x00\\x00\\x00\\x00\\x00\\x00\\x00\\x00\\xdb\\x00\\x00\\x00'\n"
     ]
    }
   ],
   "source": [
    "for k in up_data:\n",
    "    print(k, up_data[k][0:128])"
   ],
   "metadata": {
    "collapsed": false
   }
  },
  {
   "cell_type": "code",
   "execution_count": 5,
   "id": "799b9118",
   "metadata": {},
   "outputs": [],
   "source": [
    "test_img = Path(\"/Users/mgolub2/Pictures/002000E8.EMO/682FD801.IA\")\n",
    "sinar_ia = read_sinar(test_img)\n",
    "img = process_raw(sinar_ia)"
   ]
  },
  {
   "cell_type": "code",
   "execution_count": 6,
   "id": "1f904eca",
   "metadata": {},
   "outputs": [],
   "source": [
    "nimg = np.clip(norm(img), 0, 1)\n",
    "nimg[np.isnan(nimg)] = 0\n",
    "out = demosaicing_CFA_Bayer_Menon2007(nimg, \"RGGB\")\n",
    "Image.fromarray((out * 255).astype(\"uint8\"), mode=\"RGB\").rotate(90).show()"
   ]
  },
  {
   "cell_type": "code",
   "execution_count": 7,
   "id": "d1fdd8a8",
   "metadata": {},
   "outputs": [],
   "source": [
    "with open(\"/Users/mgolub2/Projects/sinar_emotion/ccd.dat/00525025.ref\", \"rb\") as ccdfp:\n",
    "    ccd = ccdfp.read()\n",
    "with open(\"/Users/mgolub2/Projects/sinar_emotion/ccd.dat/00525025.dat\", \"rb\") as datfp:\n",
    "    dat = datfp.read()"
   ]
  },
  {
   "cell_type": "code",
   "execution_count": 8,
   "id": "0ec625ea",
   "metadata": {},
   "outputs": [
    {
     "data": {
      "text/plain": [
       "(5344, 4008)"
      ]
     },
     "execution_count": 8,
     "metadata": {},
     "output_type": "execute_result"
    }
   ],
   "source": [
    "from pidng.core import RAW2DNG, DNGTags, Tag\n",
    "from pidng.defs import (\n",
    "    PhotometricInterpretation,\n",
    "    Orientation,\n",
    "    CFAPattern,\n",
    "    CalibrationIlluminant,\n",
    "    DNGVersion,\n",
    "    PreviewColorSpace,\n",
    ")\n",
    "\n",
    "img.shape"
   ]
  },
  {
   "cell_type": "code",
   "execution_count": 9,
   "id": "6405430f",
   "metadata": {},
   "outputs": [
    {
     "name": "stdout",
     "output_type": "stream",
     "text": [
      "Converted /Users/mgolub2/Pictures/002000E8.EMO/682FD801.IA to 682FD801_combo.dng\n"
     ]
    }
   ],
   "source": [
    "# uncalibrated color matrix, just for demo.\n",
    "mult = 1000000000\n",
    "ccm1 = [\n",
    "    [690277635, mult],\n",
    "    [81520691, mult],\n",
    "    [-52482637, mult],\n",
    "    [-674076304, mult],\n",
    "    [1469691720, mult],\n",
    "    [769255116, mult],\n",
    "    [-180923460, mult],\n",
    "    [390943643, mult],\n",
    "    [1601514930, mult],\n",
    "]\n",
    "\n",
    "\n",
    "def create_ia_dng(img: SinarIA, bpp=16, mode=\"COMBO\"):\n",
    "    t = DNGTags()\n",
    "    nd_img = process_raw(img, mode=mode)\n",
    "    h, w = nd_img.shape\n",
    "    db_model = img.serial.split(\"-\")[0]\n",
    "    t.set(Tag.ImageWidth, w)\n",
    "    t.set(Tag.ImageLength, h)\n",
    "    # t.set(Tag.TileWidth, w)\n",
    "    # t.set(Tag.TileLength, h)\n",
    "    t.set(Tag.Orientation, 8)  # Rotate 270 CW\n",
    "    t.set(Tag.PhotometricInterpretation, PhotometricInterpretation.Color_Filter_Array)\n",
    "    t.set(Tag.SamplesPerPixel, 1)\n",
    "    t.set(Tag.BitsPerSample, bpp)\n",
    "    t.set(Tag.CFARepeatPatternDim, [2, 2])\n",
    "    t.set(Tag.CFAPattern, CFAPattern.RGGB)\n",
    "    # t.set(Tag.BlackLevel, (4096 >> (16 - bpp)))\n",
    "    t.set(Tag.WhiteLevel, 2**bpp - 1)\n",
    "    t.set(Tag.ColorMatrix1, ccm1)\n",
    "    t.set(Tag.CalibrationIlluminant1, CalibrationIlluminant.D50)\n",
    "    t.set(Tag.AsShotNeutral, [[1, 1], [1, 1], [1, 1]])\n",
    "    t.set(Tag.Make, img.camera)\n",
    "    t.set(Tag.Model, db_model)\n",
    "    t.set(Tag.DNGVersion, DNGVersion.V1_4)\n",
    "    t.set(Tag.DNGBackwardVersion, DNGVersion.V1_2)\n",
    "    t.set(Tag.EXIFPhotoBodySerialNumber, img.serial)\n",
    "    t.set(Tag.CameraSerialNumber, img.serial)\n",
    "    t.set(Tag.ExposureTime, [(img.measured_shutter_us, 1000000)])\n",
    "    t.set(Tag.PhotographicSensitivity, img.iso)\n",
    "    t.set(Tag.SensitivityType, 3)\n",
    "    t.set(Tag.FocalLength, [(int(img.focal_length), 1)])\n",
    "    t.set(Tag.UniqueCameraModel, f\"{db_model} on {img.camera}\")\n",
    "    t.set(Tag.FNumber, [(int(img.f_stop * 100), 100)])\n",
    "    t.set(Tag.BayerGreenSplit, 0)\n",
    "    t.set(Tag.Software, \"PYEmotionDNG\")\n",
    "    # t.set(Tag.PreviewColorSpace, PreviewColorSpace.sRGB)\n",
    "    r = RAW2DNG()\n",
    "    r.options(t, path=\"\", compress=False)\n",
    "    filename = f\"{img.filename.stem}_{mode.lower()}.dng\"\n",
    "    r.convert(nd_img, filename=filename)\n",
    "    print(f\"Converted {img.filename} to {filename}\")\n",
    "\n",
    "\n",
    "create_ia_dng(sinar_ia)"
   ]
  },
  {
   "cell_type": "code",
   "execution_count": 23,
   "id": "0f86c576",
   "metadata": {},
   "outputs": [],
   "source": [
    "for k, v in sorted(raws.items(), key=lambda i: i[1].shutter_count):\n",
    "    # start = 360\n",
    "    # end = 200\n",
    "    with open(f\"{v.shutter_count}_meta.bin\", \"wb\") as metafp:\n",
    "        metafp.write(v.meta)\n",
    "    # print(v.meta[start:start+end], end='\\t')\n",
    "    # print(gle(v.meta[start:start+end]))"
   ]
  },
  {
   "cell_type": "code",
   "execution_count": 34,
   "id": "eba5c433",
   "metadata": {},
   "outputs": [
    {
     "data": {
      "text/plain": [
       "2281.9009520255895"
      ]
     },
     "execution_count": 34,
     "metadata": {},
     "output_type": "execute_result"
    }
   ],
   "source": [
    "rimg = img.swapaxes(1, 0)[::-1]\n",
    "img.mean(axis=(0, 1))\n",
    "red = rimg[0::2, 0::2]\n",
    "green1 = rimg[0::2, 1::2]\n",
    "green2 = rimg[1::2, 0::2]\n",
    "blue = rimg[1::2, 0::2]"
   ]
  },
  {
   "cell_type": "code",
   "execution_count": 13,
   "id": "05ea3340",
   "metadata": {},
   "outputs": [
    {
     "ename": "NameError",
     "evalue": "name 'red' is not defined",
     "output_type": "error",
     "traceback": [
      "\u001B[0;31m---------------------------------------------------------------------------\u001B[0m",
      "\u001B[0;31mNameError\u001B[0m                                 Traceback (most recent call last)",
      "Input \u001B[0;32mIn [13]\u001B[0m, in \u001B[0;36m<cell line: 1>\u001B[0;34m()\u001B[0m\n\u001B[0;32m----> 1\u001B[0m stacked \u001B[38;5;241m=\u001B[39m np\u001B[38;5;241m.\u001B[39mstack([\u001B[43mred\u001B[49m, green2, blue], axis\u001B[38;5;241m=\u001B[39m\u001B[38;5;241m-\u001B[39m\u001B[38;5;241m1\u001B[39m)\n",
      "\u001B[0;31mNameError\u001B[0m: name 'red' is not defined"
     ]
    }
   ],
   "source": [
    "stacked = np.stack([red, green2, blue], axis=-1)"
   ]
  },
  {
   "cell_type": "code",
   "execution_count": null,
   "id": "56b7a9b0",
   "metadata": {
    "pycharm": {
     "is_executing": true
    }
   },
   "outputs": [],
   "source": [
    "imshow(norm(stacked))"
   ]
  },
  {
   "cell_type": "code",
   "execution_count": 54,
   "id": "28998634",
   "metadata": {},
   "outputs": [
    {
     "data": {
      "text/plain": [
       "b'CCDF\\x00\\x00\\x00\\x03\\x00\\x00\\x00\\x00\\x00\\x00\\x08 \\x00\\x00\\x00\\x07\\x00\\x00\\x00\\x00\\x00\\x00\\x00\\x00\\x00\\x00\\x00\\x00\\x00\\x00\\x00\\x00\\x00\\x00\\x00\\x00\\x00\\x00\\x00\\x00\\x00\\x00\\x00\\x00\\x00\\x00\\x00\\x00\\x00\\x00\\x00\\x00\\x00\\x00\\x00\\x00\\x00\\x00\\x00\\x00\\x00\\x00\\x00\\x00\\x00\\x00\\x00\\x00\\x00\\x00\\x00\\x00\\x00\\x00\\x00\\x00\\x00\\x00\\x00\\x00\\x00\\x00\\x00\\x00\\x00\\x00\\x00\\x00\\x00\\x00\\x00\\x00\\x00\\x00\\x00\\x00\\x00\\x00\\x00\\x00\\x00\\x00\\x00\\x00\\x00\\x00\\x00\\x00\\x00\\x00\\x00\\x00\\x00\\x00\\x00\\x00\\x00\\x00\\x00\\x00\\x00\\x00\\x00\\x00\\x00\\x00\\x00\\x00\\x00\\x00\\x00\\x00\\x00\\x00\\x00\\x00\\x00\\x00\\x00\\x00\\x00\\x00\\x00\\x00\\x00\\x00\\x00\\x00\\x00\\x00\\x00\\x00\\x00\\x00\\x00\\x00\\x00\\x00\\x00\\x00\\x00\\x00\\x00\\x00\\x00\\x00\\x00\\x00\\x00\\x00\\x00\\x00\\x00\\x00\\x00\\x00\\x00\\x00\\x00\\x00\\x00\\x00\\x00\\x00\\x00\\x00\\x00\\x00\\x00\\x00\\x00\\x00\\x00\\x00\\x00\\x00\\x00\\x00\\x00\\x00\\x00\\x00\\x00\\x00\\x00\\x00\\x00\\x00\\x00\\x00\\x00\\x00\\x00\\x00\\x00\\x00\\x00\\x00\\x00\\x00\\x00\\x00\\x00\\x00\\x00\\x00\\x00\\x00\\x00\\x00\\x00\\x00\\x00\\x00\\x00\\x00\\x00\\x00\\x00\\x00\\x00\\x00\\x00\\x00\\x00\\x00\\x00\\x00\\x00\\x00\\x00\\x00\\x00\\x00\\x00\\x00\\x00\\x00\\x00\\x00\\x00\\x00\\x00\\x00\\x00\\x00\\x00\\x00\\x00\\x00\\x00\\x00\\x00\\x00\\x00\\x00\\x00\\x00\\x00\\x00\\x00\\x00\\x00\\x00\\x00\\x00\\x00\\x00\\x00\\x00\\x00\\x00\\x00\\x00\\x00\\x00\\x00\\x00\\x00\\x00\\x00\\x00\\x00\\x00\\x00\\x00\\x00\\x00\\x00\\x00\\x00\\x00\\x00\\x00\\x00\\x00\\x00\\x00\\x00\\x00\\x00\\x00\\x00\\x00\\x00\\x00\\x00\\x00\\x00\\x00\\x00\\x00\\x00\\x00\\x00\\x00\\x00\\x00\\x00\\x00\\x00\\x00\\x00\\x00\\x00\\x00\\x00\\x00\\x00\\x00\\x00\\x00\\x00\\x00\\x00\\x00\\x00\\x00\\x00\\x00\\x00\\x00\\x00\\x00\\x00\\x00\\x00\\x00\\x00\\x00\\x00\\x00\\x00\\x00\\x00\\x00\\x00\\x00\\x00\\x00\\x00\\x00\\x00\\x00\\x00\\x00\\x00\\x00\\x00\\x00\\x00\\x00\\x00\\x00\\x00\\x00\\x00\\x00\\x00\\x00\\x00\\x00\\x00\\x00\\x00\\x00\\x00\\x00\\x00\\x00\\x00\\x00\\x00\\x00\\x00\\x00\\x00\\x00\\x00\\x00\\x00\\x00\\x00\\x00\\x00\\x00\\x00\\x00\\x00\\x00\\x00\\x00\\x00\\x00\\x00\\x00\\x00\\x00\\x00\\x00\\x00\\x00\\x00\\x00\\x00\\x00\\x00\\x00\\x00\\x00\\x00\\x00\\x00\\x00\\x00\\x00\\x00\\x00\\x00\\x00\\x00\\x00\\x00\\x00\\x00\\x00\\x00\\x00\\x00\\x00\\x00\\x00\\x00\\x00\\x00\\x00\\x00\\x00\\x00\\x00\\x00\\x00\\x00\\x00\\x00\\x00\\x00\\x00\\x00\\x00\\x00\\x00\\x00\\x00\\x00\\x00\\x00\\x00\\x00\\x00\\x00\\x00\\x00\\x00\\x00\\x00\\x00\\x00\\x01\\x00\\x02\\x00I\\x01MC\\xbe\\x01\\x03\\x00\\x06\\x00\\x02\\x00\\x13\\x00\\x17\\x00\\xe0\\x14\\xa8\\x0f\\x00\\x00\\x00\\x00\\x80\\xba\\xce@\\x8d\\n,\\x00\\xb4\\x022\\x00\\x12\\x056\\x00\\x92\\rP\\x00\\x8a\\x02W\\x00z\\ta\\x00\\x04\\x04\\x84\\x00\\xb2\\x00\\x8c\\x00H\\x01\\xa5\\x00\\n\\x00\\xa9\\x00\\xe2\\x0c\\xac\\x00h\\x01\\xbe\\x00\\x8d\\t\\xc0\\x00\\xc0\\x01\\xc2\\x00P\\t\\xd2\\x00\\xd2\\x04\\xe2\\x00\\x81\\x06\\xe3\\x00\\xc2\\x01\\xe7\\x00f\\x04\\xfc\\x00P\\x0f3\\x01\\x89\\t6\\x01\\xd9\\x0c:\\x01\\xac\\x07B\\x01D\\x07D\\x01\\xc8\\x06H\\x01\\\\\\x03W\\x01>\\tW\\x01\\xfa\\x05^\\x01\\xfa\\x06j\\x01\\x01\\x0cs\\x01<\\x00~\\x01O\\x0b\\x95\\x01\\xee\\x0c\\x98\\x01\\xf2\\x03\\x9e\\x01L\\x04\\xa4\\x01$\\x06\\xa7\\x01\\xd8\\x06\\xb3\\x01\\x98\\x03\\xb5\\x01\\x0f\\x01\\xc2\\x01\\x92\\x02\\xc8\\x01\\x86\\x02\\xd2\\x01\\xd8\\x05\\xd5\\x01\\x92\\x0e\\xdc\\x01t\\x02\\xe2\\x01\\xf6\\x04\\xe5\\x01\\xcb\\x06\\xe6\\x01\\xf5\\x0e\\xfd\\x01l\\x08\\x14\\x02<\\x02\\x1e\\x02%\\x014\\x02\"\\x079\\x02?\\x04B\\x02\\x14\\x02D\\x02\\xbe\\x0eE\\x02A\\x0fJ\\x02\\xca\\x0cL\\x02\\xf7\\x0cS\\x02C\\x0fV\\x02e\\x00[\\x02C\\x01`\\x02l\\x05g\\x02\\x86\\x0cn\\x02\\xf1\\x06r\\x02@\\tv\\x02\\x0e\\x04\\x80\\x02Q\\t\\x94\\x02\\xda\\x0b\\x98\\x02\\x03\\x03\\x9a\\x02\\xf9\\x04\\xc0\\x02t\\x00\\xd8\\x02\\xcf\\x03\\xe8\\x026\\x05\\xe9\\x02a\\x03\\xf6\\x02\\x9d\\x0c\\x04\\x03\\xf9\\x03\\x12\\x03F\\x01\\x13\\x03\\xb5\\r,\\x03x\\x0cT\\x03\\x05\\x0cp\\x03F\\x01u\\x03J\\x05\\x84\\x03w\\x04\\xfa\\x03\\xb6\\x00\\xfd\\x03\\xc9\\x00\\x06\\x04v\\x0e\\x12\\x04\\xba\\x04\\x15\\x04\\x84\\x0b\\x1c\\x04\\x10\\x075\\x04P\\x037\\x04\\xb9\\x038\\x04\\x1c\\x0fG\\x04\\xe2\\x0bW\\x04\\xf4\\x0ed\\x04\\xc6\\x04m\\x04\\xb2\\x03p\\x04\\x88\\x0bs\\x04i\\x00z\\x04\\xb0\\x01\\x8a\\x04(\\x00\\xa4\\x04\\x86\\x03\\xa7\\x04`\\x02\\xa9\\x04\\xf4\\x0c\\xaa\\x04\\xb6\\x04\\xb8\\x04\\xe8\\x04\\xc5\\x04\\x1a\\x0b\\xcc\\x04/\\x0e\\xd6\\x04\\xbc\\t\\xdf\\x04\\t\\t\\xe4\\x04\\x8b\\x0e\\xe4\\x04\\xef\\t\\xf4\\x04\\xc1\\x02%\\x05\\xa9\\x0b6\\x05\\xcc\\x068\\x05\\xda\\nT\\x05\\xd9\\x00[\\x05`\\r]\\x05k\\x0e\\x96\\x05\\x04\\x0b\\xa4\\x05\\x0b\\x02\\xc0\\x05d\\x02\\xef\\x05'"
      ]
     },
     "execution_count": 54,
     "metadata": {},
     "output_type": "execute_result"
    }
   ],
   "source": [
    "dat[0:1024]"
   ]
  },
  {
   "cell_type": "code",
   "execution_count": 63,
   "id": "0674dcf7",
   "metadata": {},
   "outputs": [
    {
     "data": {
      "text/plain": [
       "b'WSHF\\x00\\x00\\x00\\x03\\x00\\x00\\x00\\x00\\x00\\x00\\x05\\xdc\\x00\\x00\\x00\\x07\\x00\\x00\\x00\\x00\\x00\\x00\\x00\\x00\\x00\\x00\\x00\\x00\\x00\\x00\\x00\\x00\\x00\\x00\\x0f\\xa8\\x00\\x00\\x14\\xe0\\x00\\x00\\x00\\x0e\\x00\\x01\\x00\\x00\\x00\\x00\\x00\\x00\\x00\\x00\\x00\\x00\\x00\\x00\\x00\\x00\\x00\\x00\\x00\\x00\\x00\\x00\\x00\\x00\\x00\\x00\\x00\\x00\\x00\\x00\\x00\\x00\\x00\\x00\\x00\\x00\\x00\\x00\\x00\\x00\\x00\\x00\\x00\\x00\\x00\\x00\\x00\\x00\\x00\\x00\\x00\\x00\\x00\\x00\\x00\\x00\\x00\\x00\\x00\\x00\\x00\\x00\\x00\\x00\\x00\\x00\\x00\\x00\\x00\\x00\\x00\\x00\\x00\\x00\\x00\\x00\\x00\\x00\\x00\\x00\\x00\\x00\\x00\\x00\\x00\\x00\\x00\\x00\\x00\\x00\\x00\\x00\\x00\\x00\\x00\\x00\\x00\\x00\\x00\\x00\\x00\\x00\\x00\\x00\\x00\\x00\\x00\\x00\\x00\\x00\\x00\\x00\\x00\\x00\\x00\\x00\\x00\\x00\\x00\\x00\\x00\\x00\\x00\\x00\\x00\\x00\\x00\\x00\\x00\\x00\\x00\\x00\\x00\\x00\\x00\\x00\\x00\\x00\\x00\\x00\\x00\\x00\\x00\\x00\\x00\\x00\\x00\\x00\\x00\\x00\\x00\\x00\\x00\\x00\\x00\\x00\\x00\\x00\\x00\\x00\\x00\\x00\\x00\\x00\\x00\\x00\\x00\\x00\\x00\\x00\\x00\\x00\\x00\\x00\\x00\\x00\\x00\\x00\\x00\\x00\\x00\\x00\\x00\\x00\\x00\\x00\\x00\\x00\\x00\\x00\\x00\\x00\\x00\\x00\\x00\\x00\\x00\\x00\\x00\\x00\\x00\\x00\\x00\\x00\\x00\\x00\\x00\\x00\\x00\\x00\\x00\\x00\\x00\\x00\\x00\\x00\\x00\\x00\\x00\\x00\\x00\\x00\\x00\\x00\\x00\\x00\\x00\\x00\\x00\\x00\\x00\\x00\\x00\\x00\\x00\\x00\\x00\\x00\\x00\\x00\\x00\\x00\\x00\\x00\\x00\\x00\\x00\\x00\\x00\\x00\\x00\\x00\\x00\\x00\\x00\\x00\\x00\\x00\\x00\\x00\\x00\\x00\\x00\\x00\\x00\\x00\\x00\\x00\\x00\\x00\\x00\\x00\\x00\\x00\\x00\\x00\\x00\\x00\\x00\\x00\\x00\\x00\\x00\\x00\\x00\\x00\\x00\\x00\\x00\\x00\\x00\\x00\\x00\\x00\\x00\\x00\\x00\\x00\\x00\\x00\\x00\\x00\\x00\\x00\\x00\\x00\\x00\\x00\\x00\\x00\\x00\\x00\\x00\\x00\\x00\\x00\\x00\\x00\\x00\\x00\\x00\\x00\\x00\\x00C2\\x00\\x00f\\x02MC\\x00L\\x04\\x00\\xe8\\x00 \\x00\\x08.\\x00\\x00\\x986\\x00\\x00\\t7\\x00\\x00\\xfd-\\x00\\x00\\x132\\x01\\x00\\x12\\x02\\x01\\x00\\x00\\x00\\x01\\x00\\\\2\\x01\\x00\\x00\\x00\\x00\\x00\\x00\\x00\\x00\\x00\\x00\\x00\\x00\\x00\\x00\\x00\\x00\\x00\\x00\\x00\\x00\\x00\\x00\\x00\\x00\\x00\\x00\\x00\\x00\\x00\\x00\\x00\\x00\\x00\\x00\\x00\\x00\\x00\\x00\\x00\\x00\\x00\\x00\\x00\\x00\\x00\\x00\\x00\\x00\\x00\\x00\\x00\\x00\\x00\\x00\\x00\\x00\\x00\\x00\\x00\\x00\\x00\\x00\\x00\\x00\\x00\\x00\\x00\\x00\\x00\\x00\\x00\\x00\\x00\\x00\\x00\\x00\\x00\\x00\\x00\\x00\\x00\\x00\\x00\\x00\\x00\\x00\\x00\\x00\\x00\\x00\\x00\\x00\\x00'"
      ]
     },
     "execution_count": 63,
     "metadata": {},
     "output_type": "execute_result"
    }
   ],
   "source": [
    "ccd[0:512]"
   ]
  },
  {
   "cell_type": "code",
   "execution_count": 20,
   "id": "727055b2",
   "metadata": {},
   "outputs": [
    {
     "data": {
      "text/plain": [
       "2080"
      ]
     },
     "execution_count": 20,
     "metadata": {},
     "output_type": "execute_result"
    }
   ],
   "source": [
    "gbi(dat, 12)"
   ]
  },
  {
   "cell_type": "code",
   "execution_count": 44,
   "id": "df32ee2d",
   "metadata": {},
   "outputs": [
    {
     "data": {
      "text/plain": [
       "43361792"
      ]
     },
     "execution_count": 44,
     "metadata": {},
     "output_type": "execute_result"
    }
   ],
   "source": [
    "43362304 - 512"
   ]
  },
  {
   "cell_type": "code",
   "execution_count": 46,
   "id": "85fff556",
   "metadata": {},
   "outputs": [
    {
     "data": {
      "text/plain": [
       "10818.810379241517"
      ]
     },
     "execution_count": 46,
     "metadata": {},
     "output_type": "execute_result"
    }
   ],
   "source": [
    "43361792 / 4008"
   ]
  },
  {
   "cell_type": "code",
   "execution_count": 55,
   "id": "fc504d90",
   "metadata": {},
   "outputs": [
    {
     "data": {
      "text/plain": [
       "-525312.0"
      ]
     },
     "execution_count": 55,
     "metadata": {},
     "output_type": "execute_result"
    }
   ],
   "source": [
    "h = 5344\n",
    "w = 4008\n",
    "(h * w * 16) / 8 - len(ccd) - 512"
   ]
  },
  {
   "cell_type": "code",
   "execution_count": 58,
   "id": "ac975fea",
   "metadata": {},
   "outputs": [
    {
     "data": {
      "text/plain": [
       "65664.0"
      ]
     },
     "execution_count": 58,
     "metadata": {},
     "output_type": "execute_result"
    }
   ],
   "source": [
    "525312.0 / 8"
   ]
  },
  {
   "cell_type": "code",
   "execution_count": 91,
   "id": "54a9f666",
   "metadata": {},
   "outputs": [
    {
     "data": {
      "text/plain": [
       "5409.405189620758"
      ]
     },
     "execution_count": 91,
     "metadata": {},
     "output_type": "execute_result"
    }
   ],
   "source": [
    "21680896 / (4008)"
   ]
  },
  {
   "cell_type": "code",
   "execution_count": 64,
   "id": "e263f525",
   "metadata": {},
   "outputs": [],
   "source": [
    "dt = np.dtype(np.uint16)\n",
    "dt = dt.newbyteorder(\">\")\n",
    "dat = np.frombuffer(ccd[512:], dtype=dt)"
   ]
  },
  {
   "cell_type": "code",
   "execution_count": 87,
   "id": "7594cb77",
   "metadata": {},
   "outputs": [
    {
     "data": {
      "text/plain": [
       "262144.0"
      ]
     },
     "execution_count": 87,
     "metadata": {},
     "output_type": "execute_result"
    }
   ],
   "source": [
    "dat.size - 21418752.0"
   ]
  },
  {
   "cell_type": "code",
   "execution_count": 86,
   "id": "7fcc7bd9",
   "metadata": {},
   "outputs": [
    {
     "data": {
      "text/plain": [
       "21418752.0"
      ]
     },
     "execution_count": 86,
     "metadata": {},
     "output_type": "execute_result"
    }
   ],
   "source": [
    "(h * w * 16) / 16"
   ]
  },
  {
   "cell_type": "code",
   "execution_count": 88,
   "id": "3054b368",
   "metadata": {},
   "outputs": [
    {
     "data": {
      "text/plain": [
       "512.0"
      ]
     },
     "execution_count": 88,
     "metadata": {},
     "output_type": "execute_result"
    }
   ],
   "source": [
    "262144.0 / 512"
   ]
  },
  {
   "cell_type": "code",
   "execution_count": 92,
   "id": "8ecdc14b",
   "metadata": {},
   "outputs": [
    {
     "data": {
      "text/plain": [
       "43361792"
      ]
     },
     "execution_count": 92,
     "metadata": {},
     "output_type": "execute_result"
    }
   ],
   "source": [
    "len(ccd[512:])"
   ]
  },
  {
   "cell_type": "code",
   "execution_count": 93,
   "id": "fa01cf84",
   "metadata": {},
   "outputs": [
    {
     "data": {
      "text/plain": [
       "21680896.0"
      ]
     },
     "execution_count": 93,
     "metadata": {},
     "output_type": "execute_result"
    }
   ],
   "source": [
    "43361792 / 2"
   ]
  },
  {
   "cell_type": "code",
   "execution_count": 94,
   "id": "f28f3333",
   "metadata": {},
   "outputs": [],
   "source": [
    "from math import sqrt\n",
    "\n",
    "\n",
    "def get_factors(n):\n",
    "    \"\"\"Returns a sorted list of all unique factors of `n`.\"\"\"\n",
    "    factors = set()\n",
    "    for i in range(1, int(sqrt(n)) + 1):\n",
    "        if n % i == 0:\n",
    "            factors.update([i, n // i])\n",
    "    return sorted(factors)"
   ]
  },
  {
   "cell_type": "code",
   "execution_count": 116,
   "id": "850a514b",
   "metadata": {},
   "outputs": [
    {
     "data": {
      "text/plain": [
       "[1,\n",
       " 2,\n",
       " 4,\n",
       " 8,\n",
       " 16,\n",
       " 32,\n",
       " 64,\n",
       " 128,\n",
       " 256,\n",
       " 512,\n",
       " 1024.0,\n",
       " 2048.0,\n",
       " 4096.0,\n",
       " 8192.0,\n",
       " 16384.0,\n",
       " 32768.0,\n",
       " 65536.0,\n",
       " 131072.0,\n",
       " 262144.0]"
      ]
     },
     "execution_count": 116,
     "metadata": {},
     "output_type": "execute_result"
    }
   ],
   "source": [
    "get_factors(262144.0)"
   ]
  },
  {
   "cell_type": "code",
   "execution_count": 97,
   "id": "6afbb07b",
   "metadata": {},
   "outputs": [
    {
     "data": {
      "text/plain": [
       "21172.75"
      ]
     },
     "execution_count": 97,
     "metadata": {},
     "output_type": "execute_result"
    }
   ],
   "source": [
    "21680896.0 / 1024"
   ]
  },
  {
   "cell_type": "code",
   "execution_count": 98,
   "id": "1161cb21",
   "metadata": {},
   "outputs": [
    {
     "data": {
      "text/plain": [
       "43362304"
      ]
     },
     "execution_count": 98,
     "metadata": {},
     "output_type": "execute_result"
    }
   ],
   "source": [
    "len(ccd)"
   ]
  },
  {
   "cell_type": "code",
   "execution_count": 112,
   "id": "3eca002d",
   "metadata": {},
   "outputs": [
    {
     "data": {
      "text/plain": [
       "262144.0"
      ]
     },
     "execution_count": 112,
     "metadata": {},
     "output_type": "execute_result"
    }
   ],
   "source": [
    "len(ccd[512:]) / 2 - (4008 * 5344)"
   ]
  },
  {
   "cell_type": "code",
   "execution_count": 113,
   "id": "6960f967",
   "metadata": {},
   "outputs": [
    {
     "data": {
      "text/plain": [
       "64.0"
      ]
     },
     "execution_count": 113,
     "metadata": {},
     "output_type": "execute_result"
    }
   ],
   "source": [
    "262144.0 / 4096"
   ]
  },
  {
   "cell_type": "code",
   "execution_count": 114,
   "id": "5159b8b5",
   "metadata": {},
   "outputs": [
    {
     "data": {
      "text/plain": [
       "b'/+6B-\\xb96\\xba.\\'6j.q7\\t.\\xe26\\xbb.\\x8f6\\x8c.M6\\x93.\\x016\\xbb.\\x987\\x0c.\\x8f6\\xe2.r6\\xe4.M6C.\\x946\\xba.\\x976\\xb8.p7Y.\\xbd6C.\\xbd6\\xb8.\\xaa6k.s6\\xbc.N6k.\\x986\\xe4.)6\\x94.s71.\\xbe7\\x0c.N7\\r.s7\\x0c.\\x8f6\\xbb.t6l.N7\\r.t7\\x85.\\x986\\xe4.N7\\r.\\xbf6\\xbb.\\x986\\xb3.\\xe46\\xe5.\\x996\\xe4.*7\\x82.o7\\r.\\x997U.\\x997\\\\.\\xbd74.\\x987^.\\xbe7\\r.\\xbe7\\r.t75.\\xb675.o7].\\xe46\\xb8.\\x947\\x0e.o7].\\xbe6\\xe4.\\x997\\x0e.v7].\\x997^.\\x9b76.\\x9a6\\xe6.\\xc075.\\xb96\\xbd.\\xbf7\\x0e.\\xaf75.\\x997\\x86.\\xb67^.\\x9a7\\x87/%6\\xdd.\\x9a7\\xd8.u7^/\\n7_.\\x9a6\\x95.\\xe57^/\\t76/\\n7^.\\x906\\xe6.\\x9a7^.\\xdb7\\x0e//77.\\x9a7\\x0e.\\xe57\\x87.\\x9a76.\\xc077.\\xc07\\xaf.\\xe47\\x0e.\\xdf7\\x0e.\\xbf7^.u7_.\\xb676/\\n7^.\\xc17_.\\xc07\\xb0.\\xe67_.\\xe57\\x87//7\\x87.\\xb577.\\xe67\\x0e//7\\xb0.\\x9b7\\x88.\\x947\\xd9.\\xba7\\xb0/\\x0b7\\x0f.\\xc07\\xb0.\\xc18\\x00.\\xbf7\\x0e.u7\\xd9.\\xc07\\x87.\\xe57\\x0f.\\xc17\\x88/07\\x88.\\xe67\\x88/O7_.\\xc07\\x88.\\xe57\\xaf.\\xe57\\xb0.\\xc07\\x0f.\\xdf7\\x0f.\\x9a7\\xaa.\\xd57\\xb0.v7\\xa6.\\xc17_.\\xe67\\xb0.\\xe67_.\\x9b7\\x88/U7\\x88/07_/\\x047U/07\\x88.Q7\\xb1/{7\\x88/\\x0b7\\x88.\\xc07\\x88.\\xc07`/V77.\\xc177.\\x9b7_.w7_.\\xb97\\x88/07\\xb1.\\xe67\\x88.\\xc07\\x89.\\xe67\\x88.\\xc17\\x10.\\xdb7Y.\\xe677/\\x0b7\\xb1.v7\\xb0/078.\\xe678.\\xe77_.\\x9b7\\xa6.\\xe67\\x89.\\xc17\\x89.\\x9b6\\xe6.\\x9b7-.o7\\x10/\\n7\\x88.\\xe68\\x02.\\xe67\\xa1.v77.\\xe67\\xda/\\x0b78.\\x9c7_/\\x047\\x88.\\xbf7\\x82.\\x9b7\\x89/|7_/)7\\x89.\\xdb7\\xb1/\\x0c78.\\xe67\\xda.\\xe57`.\\xc27\\x89.\\xc177.v7\\x88/07\\x10.\\x9b7\\x89.\\x9b7\\x10/17`.\\xc17U.\\x9b7`.\\xbf7\\xd9.\\xc27\\x10/\\n7\\x0f.\\xc17\\xaa/07\\xb0.\\xc07`.Q7\\xb1/17\\x89.\\xc27\\x89.\\xbf7`/178/p7\\x10.\\x8077.\\x9b7\\x89.v7\\x10.\\x9c7\\x88.\\xb57\\xb1.\\xe77\\x89/\\x0c7\\x89/;7\\xda.\\xe778.\\xe77\\xa6.\\x9b7_.\\x9b7\\x88.Q7`.\\xe77`.\\xc078.R7\\x89/178.w7`.w7`/179.\\xe671.\\x9b7`.\\xc17J/\\x007\\xa6/07\\x88.\\x9c7\\xcf.\\xc17\\x10/17\\xb1.\\xc178.\\x9c7a.v8\\x02.\\x9b7\\xb1.\\x9b77/\\x0c7x.\\xe67\\x89.\\xe67`.\\xc27\\x82.\\xe57\\x82.w7\\x89.\\x9c7\\x10/\\x0c8\\x02.\\xe68\\x03//78.w78.\\xc07`.\\xe77U.\\x9c78.\\xc27\\xb1.\\xc27\\x89.\\xc17\\xda/\\x0c78.v7_.\\xe58\\x02.\\xe778.\\x9b7\\x10.\\x9c79.\\xe77\\x89.\\x9c7\\xb1.\\xc17a.-7\\x11/\\x0c6\\xe7.R7\\x10.\\x9b79.\\xc17`/\\x0c78.\\xbf7\\x10.\\x9c7\\x89.R7\\xb1.\\x9c7`.\\xc17_.\\xc178.Q7\\xb1.\\xc07\\xb2.w7_.\\xe67\\x89.\\x9c7\\xb2.\\xc17\\xda.\\x9c7`.\\x9c7\\xda.\\x9c79.\\x9c7\\xb1.\\xc28T.\\x9c8\\x03.\\xe57\\xb1.R8T.u7\\x88.\\xc17`.w7\\xda.\\x9c6\\xe7.\\x9c7\\x89.\\x9c7`.\\xc278.\\xc17\\x11.w7\\x10.\\xc07\\xb2.\\xc16\\xe8.\\xc17a.\\x9a7\\x10.\\xe77a.\\x9c7\\xb1.\\xe77`.w7`.\\xc17a.x7\\x89.\\x9c7\\x89.\\x9c79.\\x9c7`.\\xc27\\x10.\\xc16\\xe8.\\x9c7\\x11.\\x9c7\\x89.k7`.\\x9c7\\x8a/17`.\\xf57\\xdb.\\x9c7\\x05.\\xc179.\\xfa7\\x88.\\xc27\\x11/\\x0c7b.w7_.\\xc16\\xff.\\xc17a.\\xc17\\x89.\\xe57a.\\x9c7\\t.R6\\xc0.\\x9c7\\xb1.\\xdf7\\x8a.\\x9c7a.\\xe77a.\\xc17\\x82.w7\\x8a.u7\\x10/\\x0c7\\xb2.\\x0879.-7a/17\\x11/\\x0c7a.R7a.F78.F78.\\x947\\xa6.\\x9a7`.\\xc27a.-7\\t.\\xc17\\x8a.\\x9c79.-7_.\\xc17\\x8a.\\x9478.w7`/17U.\\xe76\\xbf.\\x9c7\\xb2.\\x9a7\\xb3.\\xc171/\\x006\\xe8.\\xc17\\xb0.\\xc079/\\x0c7\\x10.\\xba79.\\x9c6\\xe6.\\x9c7a.\\x9c79.\\xe76\\xe8.u7\\x8a.x6\\xe8.\\x9c7\\t.\\x9d7\\x8a/\\x0c7`.\\x906\\xe8.\\xe777.w7\\xb0/17\\x11.w6\\xe9.o7\\xb2.\\xc26\\xb5.\\xc279.\\x9d6\\xe8.\\xe77`.\\xc27\\x89.\\x9c7\\xb2/O7\\x10.u6\\xe8.w7a/\\r7\\x11.x79.u7\\xaa.u6\\xe9.\\x9c6\\xbf.\\x9c7\\x11.-7a.+6\\xe8.\\x9c7\\x8a.\\xb679/\\n7\\x11/17\\x11.\\xe87a.\\xd06\\xe9.w7\\x89.\\x9c7\\x11.\\x9c7a.-7\\x11/\\x0c79.x79.\\x9c7\\x8a.w7\\xdb.x7\\x11.x6\\xc0.\\x9c78.\\x9c79/\\x0c7a.\\xe77\\x11.\\x9a79.\\x9d7\\x11/X7a.\\xc279.\\x9d77.\\xe87\\x8a.w7\\x10.\\xe779.\\xc17\\x11.\\xc27\\x8a.\\xc17\\x11.\\x9d7Y/\\x0471.\\x9d79.\\x9c7a.S7U.\\xbf78.\\xe77\\x8a.\\x9c6\\xe9.\\xe87a.w7\\x8a.\\xc07\\xb2.\\xe57\\x05.\\x9d7\\x11.\\x9d79.\\x9c7\\xb2.\\xe77`.\\x9c79.w7\\x11.\\xc27\\xdb.\\xc17a.\\x9d6\\xc0.\\x9d6\\xc0/\\x0c79.\\xe87\\xaa/\\r6\\xf5.\\x9c7a.\\xc179.\\xc17\\x11/)6\\xc0.\\x9c6\\xe6.\\xc26\\x99.\\xc27a.\\xc27\\xb2.\\xc379.\\xc27\\x05.\\xe56\\xc0.x7a.\\xe77\\xb2.\\xc37\\x11.\\xc17\\x11.\\xc27\\xb2.\\x9d7\\x8a.\\xe879.\\xc27\\x8a.\\xe87b.\\x9c7_.\\x9a6\\xe8/\\x0c7a/\\r79.\\x9c7a..7_.\\xc27\\x11.\\xc17\\x8a.\\xc27\\x8a.x7\\x8a.x7\\x8a.\\xe57\\x11.\\xe77\\x12.x7\\x8a.\\x906\\xe8.x6\\xdc.\\x9a7\\x11.\\xf57\\x88.\\x9479.\\xc27\\xb3.S6\\xe8.\\x9c8*.\\x8a7\\x11.\\xe87-/\\x0c7\\x11/\\r79.\\xe579.x79.x6\\x98.S6\\xe8.\\xb67U.\\xc26\\x98.\\xc17\\x11//7a.\\xe87\\x11.\\x907:.\\xc27a.\\xc37\\x11/27a.S7\\x11/\\n7a/\\x0c7\\x11/16\\xe8.\\xe87\\x11.\\xb67~.S7:.\\xe879.\\x9d7\\x11.\\xe879.\\xc27\\x8b.\\x9d7\\x8a.\\xe77_.\\x9d7\\x8b/\\r79.\\xbf79/\\r6\\xe8.\\xe87b.\\xe57\\x8a.\\xc37\\x11.S6\\xea/\\n7a/W7\\x11.\\xe87b.\\xc36\\xc0.x7\\t.\\xe86\\xea.\\xc37b.\\xb97\\xb2.\\xe87\\x8b.x6\\xe7.\\xc36\\xe8.\\xe77\\x11.\\xc27b.\\xc379.\\xe76\\xbe.\\x9d7\\x8b.\\xc26\\xc1.S7\\xdb.\\xc37\\x11.\\xe87\\x12/\\r77.\\x9d7a.y7_/\\r79/27Y.x7:.\\xc36\\xea.\\x9d6\\xc0.\\x9d7\\x8a.\\x9d77.\\x9d7a.w79.\\xc27b/\\r7\\xdb.\\xc37\\xdb/27\\x8b/\\r8\\x04.\\t7\\xb2.x7\\x8a.T7b.\\x9d6\\xe8.\\xe87a/X7\\xb3.\\xc27\\x11/26\\xf5.\\xdb7\\xb3.x7a.\\xe87b.\\x9d7\\x8b.\\x9d7b.\\xc37a.\\xe87\\x11/\\n7\\x8b/27\\x82//7\\xdb.\\xc37:/\\r7b/X7:.\\x9d7\\xdb.\\xc27b/279.\\xe87\\x8a/X7b.\\xc37\\x99.\\xe87b.\\x9d7b/\\r7\\x8a.\\xdb7b.\\xe879/27b.\\xe87\\x8a.\\xc27\\xb2.\\xe87b/27\\x8a/\\r7\\xb3.\\x9d7:.\\x9d7b/27:/\\r7\\xdb.T7\\x8b.\\xe87\\xb2.\\xe86\\xe8/27\\x8b/\\r7a.\\xc37b.\\xe87\\x8b.\\xc37\\x8b.\\xe87;/27:.\\xdb7\\xb3/X7\\xb2/%6\\xc2/\\r7:.\\xe87\\xdb.\\xe86\\xb8.\\xe87\\xd3.\\xe87b/\\r7\\x8b.\\xc37b/\\r7\\xb0/%7\\x8a/\\r7\\xdc.\\x9d7\\xb3/X7\\xcf.\\x9d7:/z7\\x8b.\\xc37c/\\r7b/\\r7\\xdc/26\\xe9.\\xc37\\x8a/X7a/X7\\xdc/28\\x04.x7\\xdc.\\xe87\\xb3.\\xc27\\xb3.\\xe87\\x12/28-/\\r7\\xdc/\\r7\\x8a/\\r7\\xdb/27b.\\xe88\\x04.\\xe87\\xb3.\\xc26\\xea/X7b.\\xe87:/27\\xb3.\\xe87\\x0f.\\xe879/X7\\xb2/\\r7\\xb3/\\r7a.\\xc27\\x8b/27\\x8b.\\xe87\\xdc.\\xe87\\xb3/X8\\x04/28\\x04/28U.\\xc379/27\\x8b.\\xe87b/\\r7\\x88/27\\x8b.\\xc28-/\\r7b/\\r7\\xdc/X7:.x79.S7\\x12.\\x907b.\\x9d79.\\x9d7\\x12.e7:.S6\\xea.\\x9d7c..6\\xea.P7;.\\xbf7-.\\x9d7-.S7:.\\xf57:.x7:.x7:.\\x9d6\\xc1.S7:.\\x9d7\\x0f.\\xc27\\x12.\\xc27\\x11.\\x9d7:.\\xb57b.x7b-\\xe57b.x6\\xea.x7\\x8b.\\x9e7\\x0f.S7\\xb3.S7b.k6\\xdc.\\x9d7a.\\xc27\\x12.\\x907b.\\x9d6\\xc1..7-.\\x9d7\\x12.\\x9d7:.x7\\x12.+7\\x12.x6\\xc0.\\xc26\\xea.\\xe86\\xe9.\\x9d6\\x99.u6\\xc1.06\\xea.y7\\x8b.\\x9d7U.x6\\xc1.\\t6\\xea.\\xc36\\xc1.x7\\x12.\\xe87b.\\xba7\\x12.\\xc27:.S7:.\\xe57~.S77.S6\\xc1.T7:.\\x9d7a.x6\\xe1.\\x9d7\\x12.S7\\x8b/\\n7b..7\\x8b.x6\\xbe.x6\\xe6..7\\xb3.\\n7:.S7:.x6\\xdc.\\x9a7\\x05.x6\\xea.y7\\x12.S6\\xe9.y6\\xf5.x7\\x12./6\\xe9..6\\xea.x7\\x8a.S6\\xe9.\\xc27:.y7_.S7:.\\x9d6\\xe9.\\t7\\x12.\\x807\\x12.\\x9d7\\x12.x7\\x8b..7:.x7:.S7c.y6\\xc1.y6\\xc1./7:.\\x9d6\\xe9.\\x9d7:.\\xc37\\x12.T7\\x12.S7\\x12.x6\\xc1.\\xc37b.\\xe87U.x7\\x0f.x7c.\\xc36\\xe9.\\x9d6\\xe9.\\x9d7\\x12.\\x9d7\\x12.\\x9d6\\xe7.\\x9d7b.y6\\xea.S7:.P6\\xea.S6\\x99.x7\\x12.x6\\x91.y7:./6\\xc1.%6\\xe9.\\x9d6\\x99.\\x9d6\\xea.S7:.x7\\x12.\\x9d7\\x12.\\xc371.x7:..6\\xc1.y6I.x7b.%7b/\\r7:.\\xe87:.%7:.x7\\x12.\\x9d7:.\\xc27b.S7b.\\x9e6\\xc1.S7\\x11.\\x9d7:.\\x9d7\\xb3.\\x9d7\\x12.P7\\xa6..6\\xe1.y7\\x12.v7\\x12.\\x9d6\\xe9.y7b.x77.x7:..7b.x6\\xe9.\\x9d6\\xea.\\xb57\\x8b.\\x9e6\\xb8.x7\\x12.y7\\x12.y6\\xe9.\\x9d7\\x12.x6\\xe6.x7\\x82.\\xc27\\x05.S7\\x12.y7\\x12.y6\\xc1..6\\xa4.\\x9d7:.y7b.S7a.\\xc27:.\\xc37:.x7b.\\xc26\\xc1/\\r6\\xc1.\\x9d6\\xc1.\\xc37\\x12.y6\\xc1.S7\\x05.S79.o7b.S6\\x99.y6\\xe7.S7\\x12.T7\\x0f.p6\\xea.\\x9d7b.\\x9e7c.u7\\x12.\\x9d6\\xbe.S7\\x0f.\\xc27\\x8b.x7\\x12.x6\\x99.y6\\x99.T6\\xe9.\\x9d7\\x12./6\\xe9.S77.\\xc37:.P6\\xea.\\xe86\\xc1.x7\\x12.x6\\xea.x7\\x12./6n.S6\\xc1.y6\\xea/\\x0e7:.x6\\xc1.\\x9d6\\xbe.x6\\xea.\\x9a6\".x7:.\\x9d6\\x99.x6\\xe7.\\x9d7\\x12.S6\\x8c.S7b.S79.S6\\x99.J6\\xe9.\\xe86\\xea.x7b.S7\\x8b.u7\\x8b'"
      ]
     },
     "execution_count": 114,
     "metadata": {},
     "output_type": "execute_result"
    }
   ],
   "source": [
    "ccd[512:4096]"
   ]
  },
  {
   "cell_type": "code",
   "execution_count": 115,
   "id": "e36ec00f",
   "metadata": {},
   "outputs": [
    {
     "data": {
      "text/plain": [
       "43362304"
      ]
     },
     "execution_count": 115,
     "metadata": {},
     "output_type": "execute_result"
    }
   ],
   "source": [
    "len(ccd)"
   ]
  },
  {
   "cell_type": "code",
   "execution_count": null,
   "id": "5050c5b3",
   "metadata": {},
   "outputs": [],
   "source": []
  }
 ],
 "metadata": {
  "kernelspec": {
   "name": "python3",
   "language": "python",
   "display_name": "Python 3 (ipykernel)"
  },
  "language_info": {
   "codemirror_mode": {
    "name": "ipython",
    "version": 3
   },
   "file_extension": ".py",
   "mimetype": "text/x-python",
   "name": "python",
   "nbconvert_exporter": "python",
   "pygments_lexer": "ipython3",
   "version": "3.9.12"
  }
 },
 "nbformat": 4,
 "nbformat_minor": 5
}
